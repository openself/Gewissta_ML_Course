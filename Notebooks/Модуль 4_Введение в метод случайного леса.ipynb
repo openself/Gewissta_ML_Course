{
 "cells": [
  {
   "cell_type": "code",
   "execution_count": 1,
   "metadata": {},
   "outputs": [
    {
     "data": {
      "text/html": [
       "<div>\n",
       "<style scoped>\n",
       "    .dataframe tbody tr th:only-of-type {\n",
       "        vertical-align: middle;\n",
       "    }\n",
       "\n",
       "    .dataframe tbody tr th {\n",
       "        vertical-align: top;\n",
       "    }\n",
       "\n",
       "    .dataframe thead th {\n",
       "        text-align: right;\n",
       "    }\n",
       "</style>\n",
       "<table border=\"1\" class=\"dataframe\">\n",
       "  <thead>\n",
       "    <tr style=\"text-align: right;\">\n",
       "      <th></th>\n",
       "      <th>age</th>\n",
       "      <th>gender</th>\n",
       "      <th>default</th>\n",
       "    </tr>\n",
       "  </thead>\n",
       "  <tbody>\n",
       "    <tr>\n",
       "      <th>0</th>\n",
       "      <td>70</td>\n",
       "      <td>Мужской</td>\n",
       "      <td>Да</td>\n",
       "    </tr>\n",
       "    <tr>\n",
       "      <th>1</th>\n",
       "      <td>64</td>\n",
       "      <td>Мужской</td>\n",
       "      <td>Нет</td>\n",
       "    </tr>\n",
       "    <tr>\n",
       "      <th>2</th>\n",
       "      <td>69</td>\n",
       "      <td>Женский</td>\n",
       "      <td>Да</td>\n",
       "    </tr>\n",
       "    <tr>\n",
       "      <th>3</th>\n",
       "      <td>68</td>\n",
       "      <td>Мужской</td>\n",
       "      <td>Нет</td>\n",
       "    </tr>\n",
       "    <tr>\n",
       "      <th>4</th>\n",
       "      <td>65</td>\n",
       "      <td>Женский</td>\n",
       "      <td>Нет</td>\n",
       "    </tr>\n",
       "  </tbody>\n",
       "</table>\n",
       "</div>"
      ],
      "text/plain": [
       "   age   gender default\n",
       "0   70  Мужской      Да\n",
       "1   64  Мужской     Нет\n",
       "2   69  Женский      Да\n",
       "3   68  Мужской     Нет\n",
       "4   65  Женский     Нет"
      ]
     },
     "execution_count": 1,
     "metadata": {},
     "output_type": "execute_result"
    }
   ],
   "source": [
    "# импортируем необходимые библиотеки\n",
    "import numpy as np\n",
    "import pandas as pd\n",
    "\n",
    "# записываем CSV-файл в объект DataFrame\n",
    "data = pd.read_csv(\"C:/Trees/RF_classification.csv\", encoding='cp1251', sep=';')\n",
    "\n",
    "# смотрим данные\n",
    "data"
   ]
  },
  {
   "cell_type": "code",
   "execution_count": 2,
   "metadata": {},
   "outputs": [
    {
     "name": "stdout",
     "output_type": "stream",
     "text": [
      "Исходные переменные:\n",
      " ['age', 'gender', 'default'] \n",
      "\n",
      "Переменные после get_dummies:\n",
      " ['age', 'gender_Женский', 'gender_Мужской', 'default_Да', 'default_Нет']\n"
     ]
    }
   ],
   "source": [
    "# выполняем дамми-кодирование\n",
    "print(\"Исходные переменные:\\n\", list(data.columns), \"\\n\")\n",
    "data_dummies = pd.get_dummies(data)\n",
    "print(\"Переменные после get_dummies:\\n\", list(data_dummies.columns))"
   ]
  },
  {
   "cell_type": "code",
   "execution_count": 3,
   "metadata": {
    "collapsed": true
   },
   "outputs": [],
   "source": [
    "# создаем массив меток зависимой переменной\n",
    "y = data_dummies.loc[:, 'default_Да']\n",
    "# удаляем из массива признаков дамми-переменные\n",
    "# default_Нет и default_Да, поскольку они\n",
    "# представляют собой зависимую переменную\n",
    "data_dummies.drop('default_Нет', axis=1, inplace=True)\n",
    "data_dummies.drop('default_Да', axis=1, inplace=True)\n",
    "# создаем массив признаков\n",
    "X = data_dummies"
   ]
  },
  {
   "cell_type": "code",
   "execution_count": 4,
   "metadata": {},
   "outputs": [
    {
     "name": "stdout",
     "output_type": "stream",
     "text": [
      "Правильность по методу OOB: 0.40\n"
     ]
    }
   ],
   "source": [
    "# импортируем класс RandomForestClassifier\n",
    "from sklearn.ensemble import RandomForestClassifier\n",
    "# создаем экземпляр класса RandomForestClassifier\n",
    "forest=RandomForestClassifier(n_estimators=10, random_state=152, \n",
    "                              oob_score=True, n_jobs=-1)\n",
    "# подгоняем модель\n",
    "forest.fit(X, y)\n",
    "# вычисляем правильность по методу OOB\n",
    "print(\"Правильность по методу OOB: {:.2f}\".format(forest.oob_score_))"
   ]
  },
  {
   "cell_type": "code",
   "execution_count": 5,
   "metadata": {},
   "outputs": [
    {
     "data": {
      "text/html": [
       "<div>\n",
       "<style scoped>\n",
       "    .dataframe tbody tr th:only-of-type {\n",
       "        vertical-align: middle;\n",
       "    }\n",
       "\n",
       "    .dataframe tbody tr th {\n",
       "        vertical-align: top;\n",
       "    }\n",
       "\n",
       "    .dataframe thead th {\n",
       "        text-align: right;\n",
       "    }\n",
       "</style>\n",
       "<table border=\"1\" class=\"dataframe\">\n",
       "  <thead>\n",
       "    <tr style=\"text-align: right;\">\n",
       "      <th></th>\n",
       "      <th>age</th>\n",
       "      <th>gender_Женский</th>\n",
       "      <th>gender_Мужской</th>\n",
       "      <th>default_Да</th>\n",
       "      <th>OOB_Predictions</th>\n",
       "    </tr>\n",
       "  </thead>\n",
       "  <tbody>\n",
       "    <tr>\n",
       "      <th>0</th>\n",
       "      <td>70</td>\n",
       "      <td>0</td>\n",
       "      <td>1</td>\n",
       "      <td>1</td>\n",
       "      <td>0</td>\n",
       "    </tr>\n",
       "    <tr>\n",
       "      <th>1</th>\n",
       "      <td>64</td>\n",
       "      <td>0</td>\n",
       "      <td>1</td>\n",
       "      <td>0</td>\n",
       "      <td>0</td>\n",
       "    </tr>\n",
       "    <tr>\n",
       "      <th>2</th>\n",
       "      <td>69</td>\n",
       "      <td>1</td>\n",
       "      <td>0</td>\n",
       "      <td>1</td>\n",
       "      <td>0</td>\n",
       "    </tr>\n",
       "    <tr>\n",
       "      <th>3</th>\n",
       "      <td>68</td>\n",
       "      <td>0</td>\n",
       "      <td>1</td>\n",
       "      <td>0</td>\n",
       "      <td>1</td>\n",
       "    </tr>\n",
       "    <tr>\n",
       "      <th>4</th>\n",
       "      <td>65</td>\n",
       "      <td>1</td>\n",
       "      <td>0</td>\n",
       "      <td>0</td>\n",
       "      <td>0</td>\n",
       "    </tr>\n",
       "  </tbody>\n",
       "</table>\n",
       "</div>"
      ],
      "text/plain": [
       "   age  gender_Женский  gender_Мужской  default_Да  OOB_Predictions\n",
       "0   70               0               1           1                0\n",
       "1   64               0               1           0                0\n",
       "2   69               1               0           1                0\n",
       "3   68               0               1           0                1\n",
       "4   65               1               0           0                0"
      ]
     },
     "execution_count": 5,
     "metadata": {},
     "output_type": "execute_result"
    }
   ],
   "source": [
    "# прогнозируем классы зависимой переменной по методу OOB\n",
    "oob_predictions=np.argmax(forest.oob_decision_function_, axis=1)\n",
    "# преобразуем прогнозы в объект DataFrame\n",
    "oob_predictions=pd.DataFrame(oob_predictions, \n",
    "                             index=data.index, columns=['OOB_Predictions'])\n",
    "# конкатенируем массив признаков, массив меток и OOB прогнозы\n",
    "oob_results=pd.concat([X, y, oob_predictions], axis=1)\n",
    "oob_results"
   ]
  },
  {
   "cell_type": "code",
   "execution_count": 6,
   "metadata": {},
   "outputs": [
    {
     "name": "stdout",
     "output_type": "stream",
     "text": [
      "Вероятности, спрогнозированные по методу OOB:\n",
      "[[ 0.8         0.2       ]\n",
      " [ 1.          0.        ]\n",
      " [ 0.8         0.2       ]\n",
      " [ 0.          1.        ]\n",
      " [ 0.66666667  0.33333333]]\n"
     ]
    }
   ],
   "source": [
    "# прогнозируем вероятности классов по методу OOB\n",
    "print(\"Вероятности, спрогнозированные по методу OOB:\\n{}\".\n",
    "      format(forest.oob_decision_function_))"
   ]
  },
  {
   "cell_type": "code",
   "execution_count": 7,
   "metadata": {},
   "outputs": [
    {
     "name": "stdout",
     "output_type": "stream",
     "text": [
      "Правильность по обычному методу: 1.000\n"
     ]
    }
   ],
   "source": [
    "# вычисляем правильность по обычному методу\n",
    "print(\"Правильность по обычному методу: {:.3f}\".format(forest.score(X, y)))"
   ]
  },
  {
   "cell_type": "code",
   "execution_count": 8,
   "metadata": {},
   "outputs": [
    {
     "data": {
      "text/html": [
       "<div>\n",
       "<style scoped>\n",
       "    .dataframe tbody tr th:only-of-type {\n",
       "        vertical-align: middle;\n",
       "    }\n",
       "\n",
       "    .dataframe tbody tr th {\n",
       "        vertical-align: top;\n",
       "    }\n",
       "\n",
       "    .dataframe thead th {\n",
       "        text-align: right;\n",
       "    }\n",
       "</style>\n",
       "<table border=\"1\" class=\"dataframe\">\n",
       "  <thead>\n",
       "    <tr style=\"text-align: right;\">\n",
       "      <th></th>\n",
       "      <th>age</th>\n",
       "      <th>gender_Женский</th>\n",
       "      <th>gender_Мужской</th>\n",
       "      <th>default_Да</th>\n",
       "      <th>Predictions</th>\n",
       "    </tr>\n",
       "  </thead>\n",
       "  <tbody>\n",
       "    <tr>\n",
       "      <th>0</th>\n",
       "      <td>70</td>\n",
       "      <td>0</td>\n",
       "      <td>1</td>\n",
       "      <td>1</td>\n",
       "      <td>1</td>\n",
       "    </tr>\n",
       "    <tr>\n",
       "      <th>1</th>\n",
       "      <td>64</td>\n",
       "      <td>0</td>\n",
       "      <td>1</td>\n",
       "      <td>0</td>\n",
       "      <td>0</td>\n",
       "    </tr>\n",
       "    <tr>\n",
       "      <th>2</th>\n",
       "      <td>69</td>\n",
       "      <td>1</td>\n",
       "      <td>0</td>\n",
       "      <td>1</td>\n",
       "      <td>1</td>\n",
       "    </tr>\n",
       "    <tr>\n",
       "      <th>3</th>\n",
       "      <td>68</td>\n",
       "      <td>0</td>\n",
       "      <td>1</td>\n",
       "      <td>0</td>\n",
       "      <td>0</td>\n",
       "    </tr>\n",
       "    <tr>\n",
       "      <th>4</th>\n",
       "      <td>65</td>\n",
       "      <td>1</td>\n",
       "      <td>0</td>\n",
       "      <td>0</td>\n",
       "      <td>0</td>\n",
       "    </tr>\n",
       "  </tbody>\n",
       "</table>\n",
       "</div>"
      ],
      "text/plain": [
       "   age  gender_Женский  gender_Мужской  default_Да  Predictions\n",
       "0   70               0               1           1            1\n",
       "1   64               0               1           0            0\n",
       "2   69               1               0           1            1\n",
       "3   68               0               1           0            0\n",
       "4   65               1               0           0            0"
      ]
     },
     "execution_count": 8,
     "metadata": {},
     "output_type": "execute_result"
    }
   ],
   "source": [
    "# прогнозируем классы зависимой переменной по обычному методу\n",
    "predictions=forest.predict(X)\n",
    "# преобразуем прогнозы в объект DataFrame\n",
    "predictions=pd.DataFrame(predictions, \n",
    "                         index=data.index, columns=['Predictions'])\n",
    "# конкатенируем массив признаков, массив меток и прогнозы\n",
    "results=pd.concat([X, y, predictions], axis=1)\n",
    "results"
   ]
  },
  {
   "cell_type": "code",
   "execution_count": 9,
   "metadata": {
    "scrolled": false
   },
   "outputs": [
    {
     "name": "stdout",
     "output_type": "stream",
     "text": [
      "Вероятности, спрогнозированные по обычному методу:\n",
      "[[ 0.4  0.6]\n",
      " [ 1.   0. ]\n",
      " [ 0.4  0.6]\n",
      " [ 0.7  0.3]\n",
      " [ 0.9  0.1]]\n"
     ]
    }
   ],
   "source": [
    "# прогнозируем вероятности классов по обычному методу\n",
    "print(\"Вероятности, спрогнозированные по обычному методу:\\n{}\".\n",
    "      format(forest.predict_proba(X)))"
   ]
  },
  {
   "cell_type": "code",
   "execution_count": 10,
   "metadata": {
    "scrolled": false
   },
   "outputs": [
    {
     "name": "stdout",
     "output_type": "stream",
     "text": [
      "[ 1.  0.]\n",
      "[ 0.  1.]\n",
      "[ 1.  0.]\n",
      "[ 0.  1.]\n",
      "[ 0.  1.]\n",
      "[ 0.  1.]\n",
      "[ 1.  0.]\n",
      "[ 0.  1.]\n",
      "[ 0.  1.]\n",
      "[ 1.  0.]\n"
     ]
    }
   ],
   "source": [
    "# вычисляем листовые вероятности каждого дерева\n",
    "# для первого наблюдения \n",
    "for tree_in_forest in forest.estimators_:    \n",
    "    print(tree_in_forest.predict_proba(X)[0])"
   ]
  },
  {
   "cell_type": "code",
   "execution_count": 11,
   "metadata": {},
   "outputs": [
    {
     "data": {
      "text/html": [
       "<div>\n",
       "<style scoped>\n",
       "    .dataframe tbody tr th:only-of-type {\n",
       "        vertical-align: middle;\n",
       "    }\n",
       "\n",
       "    .dataframe tbody tr th {\n",
       "        vertical-align: top;\n",
       "    }\n",
       "\n",
       "    .dataframe thead th {\n",
       "        text-align: right;\n",
       "    }\n",
       "</style>\n",
       "<table border=\"1\" class=\"dataframe\">\n",
       "  <thead>\n",
       "    <tr style=\"text-align: right;\">\n",
       "      <th></th>\n",
       "      <th>age</th>\n",
       "      <th>gender</th>\n",
       "      <th>days_of_delinquency</th>\n",
       "    </tr>\n",
       "  </thead>\n",
       "  <tbody>\n",
       "    <tr>\n",
       "      <th>0</th>\n",
       "      <td>70</td>\n",
       "      <td>Мужской</td>\n",
       "      <td>18</td>\n",
       "    </tr>\n",
       "    <tr>\n",
       "      <th>1</th>\n",
       "      <td>64</td>\n",
       "      <td>Мужской</td>\n",
       "      <td>15</td>\n",
       "    </tr>\n",
       "    <tr>\n",
       "      <th>2</th>\n",
       "      <td>69</td>\n",
       "      <td>Женский</td>\n",
       "      <td>17</td>\n",
       "    </tr>\n",
       "    <tr>\n",
       "      <th>3</th>\n",
       "      <td>68</td>\n",
       "      <td>Мужской</td>\n",
       "      <td>19</td>\n",
       "    </tr>\n",
       "    <tr>\n",
       "      <th>4</th>\n",
       "      <td>65</td>\n",
       "      <td>Женский</td>\n",
       "      <td>15</td>\n",
       "    </tr>\n",
       "    <tr>\n",
       "      <th>5</th>\n",
       "      <td>63</td>\n",
       "      <td>Мужской</td>\n",
       "      <td>16</td>\n",
       "    </tr>\n",
       "    <tr>\n",
       "      <th>6</th>\n",
       "      <td>55</td>\n",
       "      <td>Женский</td>\n",
       "      <td>13</td>\n",
       "    </tr>\n",
       "    <tr>\n",
       "      <th>7</th>\n",
       "      <td>60</td>\n",
       "      <td>Мужской</td>\n",
       "      <td>14</td>\n",
       "    </tr>\n",
       "    <tr>\n",
       "      <th>8</th>\n",
       "      <td>67</td>\n",
       "      <td>Мужской</td>\n",
       "      <td>16</td>\n",
       "    </tr>\n",
       "    <tr>\n",
       "      <th>9</th>\n",
       "      <td>68</td>\n",
       "      <td>Женский</td>\n",
       "      <td>14</td>\n",
       "    </tr>\n",
       "  </tbody>\n",
       "</table>\n",
       "</div>"
      ],
      "text/plain": [
       "   age   gender  days_of_delinquency\n",
       "0   70  Мужской                   18\n",
       "1   64  Мужской                   15\n",
       "2   69  Женский                   17\n",
       "3   68  Мужской                   19\n",
       "4   65  Женский                   15\n",
       "5   63  Мужской                   16\n",
       "6   55  Женский                   13\n",
       "7   60  Мужской                   14\n",
       "8   67  Мужской                   16\n",
       "9   68  Женский                   14"
      ]
     },
     "execution_count": 11,
     "metadata": {},
     "output_type": "execute_result"
    }
   ],
   "source": [
    "# записываем CSV-файл в объект DataFrame\n",
    "data = pd.read_csv(\"C:/Trees/RF_regression.csv\", encoding='cp1251', sep=';')\n",
    "\n",
    "# смотрим данные\n",
    "data"
   ]
  },
  {
   "cell_type": "code",
   "execution_count": 12,
   "metadata": {},
   "outputs": [
    {
     "name": "stdout",
     "output_type": "stream",
     "text": [
      "Исходные переменные:\n",
      " ['age', 'gender', 'days_of_delinquency'] \n",
      "\n",
      "Переменные после get_dummies:\n",
      " ['age', 'days_of_delinquency', 'gender_Женский', 'gender_Мужской']\n"
     ]
    }
   ],
   "source": [
    "# выполняем дамми-кодирование\n",
    "print(\"Исходные переменные:\\n\", list(data.columns), \"\\n\")\n",
    "data_dummies = pd.get_dummies(data)\n",
    "print(\"Переменные после get_dummies:\\n\", list(data_dummies.columns))"
   ]
  },
  {
   "cell_type": "code",
   "execution_count": 13,
   "metadata": {
    "collapsed": true
   },
   "outputs": [],
   "source": [
    "# создаем массив значений зависимой переменной\n",
    "y = data_dummies.loc[:, 'days_of_delinquency']\n",
    "# удаляем из массива признаков переменную\n",
    "# days_of_delinquency, поскольку она\n",
    "# представляет собой зависимую переменную\n",
    "data_dummies.drop('days_of_delinquency', axis=1, inplace=True)\n",
    "# создаем массив признаков\n",
    "X = data_dummies"
   ]
  },
  {
   "cell_type": "code",
   "execution_count": 14,
   "metadata": {},
   "outputs": [
    {
     "name": "stdout",
     "output_type": "stream",
     "text": [
      "R-квадрат по методу OOB: -0.36\n"
     ]
    }
   ],
   "source": [
    "# импортируем класс RandomForestRegressor\n",
    "from sklearn.ensemble import RandomForestRegressor\n",
    "# создаем экземпляр класса RandomForestRegressor\n",
    "forest=RandomForestRegressor(n_estimators=10, random_state=152, \n",
    "                              oob_score=True, n_jobs=-1)\n",
    "# подгоняем модель\n",
    "forest.fit(X, y)\n",
    "# вычисляем R-квадрат по методу OOB\n",
    "print(\"R-квадрат по методу OOB: {:.2f}\".format(forest.oob_score_))"
   ]
  },
  {
   "cell_type": "code",
   "execution_count": 15,
   "metadata": {
    "scrolled": true
   },
   "outputs": [
    {
     "data": {
      "text/html": [
       "<div>\n",
       "<style scoped>\n",
       "    .dataframe tbody tr th:only-of-type {\n",
       "        vertical-align: middle;\n",
       "    }\n",
       "\n",
       "    .dataframe tbody tr th {\n",
       "        vertical-align: top;\n",
       "    }\n",
       "\n",
       "    .dataframe thead th {\n",
       "        text-align: right;\n",
       "    }\n",
       "</style>\n",
       "<table border=\"1\" class=\"dataframe\">\n",
       "  <thead>\n",
       "    <tr style=\"text-align: right;\">\n",
       "      <th></th>\n",
       "      <th>age</th>\n",
       "      <th>gender_Женский</th>\n",
       "      <th>gender_Мужской</th>\n",
       "      <th>days_of_delinquency</th>\n",
       "      <th>OOB_Predictions</th>\n",
       "    </tr>\n",
       "  </thead>\n",
       "  <tbody>\n",
       "    <tr>\n",
       "      <th>0</th>\n",
       "      <td>70</td>\n",
       "      <td>0</td>\n",
       "      <td>1</td>\n",
       "      <td>18</td>\n",
       "      <td>17.800000</td>\n",
       "    </tr>\n",
       "    <tr>\n",
       "      <th>1</th>\n",
       "      <td>64</td>\n",
       "      <td>0</td>\n",
       "      <td>1</td>\n",
       "      <td>15</td>\n",
       "      <td>16.000000</td>\n",
       "    </tr>\n",
       "    <tr>\n",
       "      <th>2</th>\n",
       "      <td>69</td>\n",
       "      <td>1</td>\n",
       "      <td>0</td>\n",
       "      <td>17</td>\n",
       "      <td>16.000000</td>\n",
       "    </tr>\n",
       "    <tr>\n",
       "      <th>3</th>\n",
       "      <td>68</td>\n",
       "      <td>0</td>\n",
       "      <td>1</td>\n",
       "      <td>19</td>\n",
       "      <td>14.666667</td>\n",
       "    </tr>\n",
       "    <tr>\n",
       "      <th>4</th>\n",
       "      <td>65</td>\n",
       "      <td>1</td>\n",
       "      <td>0</td>\n",
       "      <td>15</td>\n",
       "      <td>14.600000</td>\n",
       "    </tr>\n",
       "    <tr>\n",
       "      <th>5</th>\n",
       "      <td>63</td>\n",
       "      <td>0</td>\n",
       "      <td>1</td>\n",
       "      <td>16</td>\n",
       "      <td>15.000000</td>\n",
       "    </tr>\n",
       "    <tr>\n",
       "      <th>6</th>\n",
       "      <td>55</td>\n",
       "      <td>1</td>\n",
       "      <td>0</td>\n",
       "      <td>13</td>\n",
       "      <td>14.333333</td>\n",
       "    </tr>\n",
       "    <tr>\n",
       "      <th>7</th>\n",
       "      <td>60</td>\n",
       "      <td>0</td>\n",
       "      <td>1</td>\n",
       "      <td>14</td>\n",
       "      <td>15.800000</td>\n",
       "    </tr>\n",
       "    <tr>\n",
       "      <th>8</th>\n",
       "      <td>67</td>\n",
       "      <td>0</td>\n",
       "      <td>1</td>\n",
       "      <td>16</td>\n",
       "      <td>17.750000</td>\n",
       "    </tr>\n",
       "    <tr>\n",
       "      <th>9</th>\n",
       "      <td>68</td>\n",
       "      <td>1</td>\n",
       "      <td>0</td>\n",
       "      <td>14</td>\n",
       "      <td>17.666667</td>\n",
       "    </tr>\n",
       "  </tbody>\n",
       "</table>\n",
       "</div>"
      ],
      "text/plain": [
       "   age  gender_Женский  gender_Мужской  days_of_delinquency  OOB_Predictions\n",
       "0   70               0               1                   18        17.800000\n",
       "1   64               0               1                   15        16.000000\n",
       "2   69               1               0                   17        16.000000\n",
       "3   68               0               1                   19        14.666667\n",
       "4   65               1               0                   15        14.600000\n",
       "5   63               0               1                   16        15.000000\n",
       "6   55               1               0                   13        14.333333\n",
       "7   60               0               1                   14        15.800000\n",
       "8   67               0               1                   16        17.750000\n",
       "9   68               1               0                   14        17.666667"
      ]
     },
     "execution_count": 15,
     "metadata": {},
     "output_type": "execute_result"
    }
   ],
   "source": [
    "# прогнозируем значения зависимой переменной по методу OOB\n",
    "oob_predictions=forest.oob_prediction_\n",
    "# преобразуем прогнозы в объект DataFrame\n",
    "oob_predictions=pd.DataFrame(oob_predictions, \n",
    "                             index=data.index, columns=['OOB_Predictions'])\n",
    "# конкатенируем массив признаков, массив значений \n",
    "# зависимой переменной и OOB прогнозы\n",
    "oob_results=pd.concat([X, y, oob_predictions], axis=1)\n",
    "oob_results"
   ]
  },
  {
   "cell_type": "code",
   "execution_count": 16,
   "metadata": {},
   "outputs": [
    {
     "name": "stdout",
     "output_type": "stream",
     "text": [
      "R-квадрат по методу OOB, вычисленный вручную: -0.36\n"
     ]
    }
   ],
   "source": [
    "# вычисляем сумму квадратов отклонений фактических значений\n",
    "# зависимой переменной от ее среднего значения\n",
    "TSS=((oob_results['days_of_delinquency']-oob_results['days_of_delinquency'].mean())**2).sum()\n",
    "# вычисляем сумму квадратов отклонений фактических значений \n",
    "# зависимой переменной от спрогнозированных, при этом каждое \n",
    "# спрогнозированное значение – результат усреднения средних\n",
    "# значений, вычисленных деревьями по OOB выборкам \n",
    "RSS=((oob_results['days_of_delinquency']-oob_results['OOB_Predictions'])**2).sum()\n",
    "# вычисляем R-квадрат по методу OOB\n",
    "print(\"R-квадрат по методу OOB, вычисленный вручную: {:.2f}\".format(1-(RSS/TSS)))"
   ]
  },
  {
   "cell_type": "code",
   "execution_count": 17,
   "metadata": {},
   "outputs": [
    {
     "name": "stdout",
     "output_type": "stream",
     "text": [
      "R-квадрат по обычному методу: 0.85\n"
     ]
    }
   ],
   "source": [
    "# вычисляем R-квадрат по обычному методу\n",
    "print(\"R-квадрат по обычному методу: {:.2f}\".format(forest.score(X, y)))"
   ]
  },
  {
   "cell_type": "code",
   "execution_count": 18,
   "metadata": {},
   "outputs": [
    {
     "data": {
      "text/html": [
       "<div>\n",
       "<style scoped>\n",
       "    .dataframe tbody tr th:only-of-type {\n",
       "        vertical-align: middle;\n",
       "    }\n",
       "\n",
       "    .dataframe tbody tr th {\n",
       "        vertical-align: top;\n",
       "    }\n",
       "\n",
       "    .dataframe thead th {\n",
       "        text-align: right;\n",
       "    }\n",
       "</style>\n",
       "<table border=\"1\" class=\"dataframe\">\n",
       "  <thead>\n",
       "    <tr style=\"text-align: right;\">\n",
       "      <th></th>\n",
       "      <th>age</th>\n",
       "      <th>gender_Женский</th>\n",
       "      <th>gender_Мужской</th>\n",
       "      <th>days_of_delinquency</th>\n",
       "      <th>Predictions</th>\n",
       "    </tr>\n",
       "  </thead>\n",
       "  <tbody>\n",
       "    <tr>\n",
       "      <th>0</th>\n",
       "      <td>70</td>\n",
       "      <td>0</td>\n",
       "      <td>1</td>\n",
       "      <td>18</td>\n",
       "      <td>17.9</td>\n",
       "    </tr>\n",
       "    <tr>\n",
       "      <th>1</th>\n",
       "      <td>64</td>\n",
       "      <td>0</td>\n",
       "      <td>1</td>\n",
       "      <td>15</td>\n",
       "      <td>15.3</td>\n",
       "    </tr>\n",
       "    <tr>\n",
       "      <th>2</th>\n",
       "      <td>69</td>\n",
       "      <td>1</td>\n",
       "      <td>0</td>\n",
       "      <td>17</td>\n",
       "      <td>16.5</td>\n",
       "    </tr>\n",
       "    <tr>\n",
       "      <th>3</th>\n",
       "      <td>68</td>\n",
       "      <td>0</td>\n",
       "      <td>1</td>\n",
       "      <td>19</td>\n",
       "      <td>17.7</td>\n",
       "    </tr>\n",
       "    <tr>\n",
       "      <th>4</th>\n",
       "      <td>65</td>\n",
       "      <td>1</td>\n",
       "      <td>0</td>\n",
       "      <td>15</td>\n",
       "      <td>14.8</td>\n",
       "    </tr>\n",
       "    <tr>\n",
       "      <th>5</th>\n",
       "      <td>63</td>\n",
       "      <td>0</td>\n",
       "      <td>1</td>\n",
       "      <td>16</td>\n",
       "      <td>15.9</td>\n",
       "    </tr>\n",
       "    <tr>\n",
       "      <th>6</th>\n",
       "      <td>55</td>\n",
       "      <td>1</td>\n",
       "      <td>0</td>\n",
       "      <td>13</td>\n",
       "      <td>13.4</td>\n",
       "    </tr>\n",
       "    <tr>\n",
       "      <th>7</th>\n",
       "      <td>60</td>\n",
       "      <td>0</td>\n",
       "      <td>1</td>\n",
       "      <td>14</td>\n",
       "      <td>14.9</td>\n",
       "    </tr>\n",
       "    <tr>\n",
       "      <th>8</th>\n",
       "      <td>67</td>\n",
       "      <td>0</td>\n",
       "      <td>1</td>\n",
       "      <td>16</td>\n",
       "      <td>16.7</td>\n",
       "    </tr>\n",
       "    <tr>\n",
       "      <th>9</th>\n",
       "      <td>68</td>\n",
       "      <td>1</td>\n",
       "      <td>0</td>\n",
       "      <td>14</td>\n",
       "      <td>15.1</td>\n",
       "    </tr>\n",
       "  </tbody>\n",
       "</table>\n",
       "</div>"
      ],
      "text/plain": [
       "   age  gender_Женский  gender_Мужской  days_of_delinquency  Predictions\n",
       "0   70               0               1                   18         17.9\n",
       "1   64               0               1                   15         15.3\n",
       "2   69               1               0                   17         16.5\n",
       "3   68               0               1                   19         17.7\n",
       "4   65               1               0                   15         14.8\n",
       "5   63               0               1                   16         15.9\n",
       "6   55               1               0                   13         13.4\n",
       "7   60               0               1                   14         14.9\n",
       "8   67               0               1                   16         16.7\n",
       "9   68               1               0                   14         15.1"
      ]
     },
     "execution_count": 18,
     "metadata": {},
     "output_type": "execute_result"
    }
   ],
   "source": [
    "# прогнозируем значения зависимой переменной по обычному методу\n",
    "predictions=forest.predict(X)\n",
    "# преобразуем прогнозы в объект DataFrame\n",
    "predictions=pd.DataFrame(predictions, \n",
    "                         index=data.index, columns=['Predictions'])\n",
    "# конкатенируем массив признаков, массив значений \n",
    "# зависимой переменной и прогнозы\n",
    "results=pd.concat([X, y, predictions], axis=1)\n",
    "results"
   ]
  },
  {
   "cell_type": "code",
   "execution_count": 19,
   "metadata": {},
   "outputs": [
    {
     "name": "stdout",
     "output_type": "stream",
     "text": [
      "R-квадрат по обычному методу, вычисленный вручную: 0.85\n"
     ]
    }
   ],
   "source": [
    "# вычисляем сумму квадратов отклонений фактических значений\n",
    "# зависимой переменной от ее среднего значения\n",
    "TSS=((results['days_of_delinquency']-results['days_of_delinquency'].mean())**2).sum()\n",
    "# вычисляем сумму квадратов отклонений фактических значений \n",
    "# зависимой переменной от спрогнозированных, при этом каждое \n",
    "# спрогнозированное значение – результат усреднения средних\n",
    "# значений, вычисленных деревьями по всем бутстреп-выборкам \n",
    "RSS=((results['days_of_delinquency']-results['Predictions'])**2).sum()\n",
    "# вычисляем R-квадрат по обычному методу\n",
    "print(\"R-квадрат по обычному методу, вычисленный вручную: {:.2f}\".format(1-(RSS/TSS)))"
   ]
  },
  {
   "cell_type": "code",
   "execution_count": 20,
   "metadata": {
    "collapsed": true
   },
   "outputs": [],
   "source": [
    "from sklearn.tree import _tree\n",
    "\n",
    "# пишем функцию, которая вычисляет глубину терминальных \n",
    "# узлов в отдельном дереве\n",
    "def leaf_depths(tree, node_id = 0):\n",
    "\n",
    "    '''\n",
    "    tree.children_left и tree.children_right записывают идентификационные\n",
    "    номера левого и правого узлов-потомков для данного узла\n",
    "    '''\n",
    "\n",
    "    left_child = tree.children_left[node_id]\n",
    "    right_child = tree.children_right[node_id]\n",
    "\n",
    "    '''\n",
    "    если данный узел является терминальным, \n",
    "    то оба дочерних узла будут иметь значение _tree.TREE_LEAF,\n",
    "    что позволяет нам проверить, является ли данный узел терминальным\n",
    "    '''\n",
    "\n",
    "    if left_child == _tree.TREE_LEAF:\n",
    "      \n",
    "       '''\n",
    "       задать глубину терминальных узлов равной 0\n",
    "       '''\n",
    "      \n",
    "       depths = np.array([0])\n",
    "\n",
    "    else:\n",
    "     \n",
    "        '''\n",
    "        получить значения глубины узлов-потомков\n",
    "        и увеличить их на 1\n",
    "        '''\n",
    "        \n",
    "        left_depths = leaf_depths(tree, left_child) + 1\n",
    "        right_depths = leaf_depths(tree, right_child) + 1\n",
    " \n",
    "        depths = np.append(left_depths, right_depths)\n",
    " \n",
    "    return depths\n"
   ]
  },
  {
   "cell_type": "code",
   "execution_count": 21,
   "metadata": {
    "collapsed": true
   },
   "outputs": [],
   "source": [
    "# пишем функцию, которая вычисляет минимальное количество наблюдений \n",
    "# в терминальных узлах отдельного дерева\n",
    "def leaf_samples(tree, node_id = 0):\n",
    "    \n",
    "    left_child = tree.children_left[node_id]\n",
    "    right_child = tree.children_right[node_id]\n",
    "\n",
    "    if left_child == _tree.TREE_LEAF:\n",
    "        \n",
    "         samples = np.array([tree.n_node_samples[node_id]])\n",
    "\n",
    "    else:\n",
    "        \n",
    "        left_samples = leaf_samples(tree, left_child)\n",
    "        right_samples = leaf_samples(tree, right_child)\n",
    "\n",
    "        samples = np.append(left_samples, right_samples)\n",
    "\n",
    "    return samples\n"
   ]
  },
  {
   "cell_type": "code",
   "execution_count": 22,
   "metadata": {
    "collapsed": true
   },
   "outputs": [],
   "source": [
    "# пишем функцию, которая строит гистограмму распределения \n",
    "# глубин терминальных узлов и гистограмму распределения \n",
    "# количества наблюдений в терминальных узлах по ансамблю\n",
    "def draw_ensemble(ensemble):\n",
    "\n",
    "    plt.figure(figsize=(8,8))\n",
    "    plt.subplot(211)\n",
    "\n",
    "    depths_all = np.array([], dtype=int)\n",
    "\n",
    "    for x in ensemble.estimators_:\n",
    "        tree = x.tree_\n",
    "        depths = leaf_depths(tree)\n",
    "        depths_all = np.append(depths_all, depths)\n",
    "        plt.hist(depths, histtype='step', color='#ddaaff', \n",
    "                 bins=range(min(depths), max(depths)+1))\n",
    "\n",
    "    plt.hist(depths_all, histtype='step', color='#9933ff', \n",
    "             bins=range(min(depths_all), max(depths_all)+1), \n",
    "             weights=np.ones(len(depths_all))/len(ensemble.estimators_), \n",
    "             linewidth=2)\n",
    "    plt.xlabel(\"Глубина терминальных узлов\")\n",
    "   \n",
    "    samples_all = np.array([], dtype=int)\n",
    "    \n",
    "    plt.subplot(212)\n",
    "    \n",
    "    for x in ensemble.estimators_:\n",
    "        tree = x.tree_\n",
    "        samples = leaf_samples(tree)\n",
    "        samples_all = np.append(samples_all, samples)\n",
    "        plt.hist(samples, histtype='step', color='#aaddff', \n",
    "                 bins=range(min(samples), max(samples)+1))\n",
    "    \n",
    "    plt.hist(samples_all, histtype='step', color='#3399ff', \n",
    "             bins=range(min(samples_all), max(samples_all)+1), \n",
    "             weights=np.ones(len(samples_all))/len(ensemble.estimators_), \n",
    "             linewidth=2)\n",
    "    plt.xlabel(\"Количество наблюдений в терминальных узлах\")\n",
    "    \n",
    "    plt.show()\n"
   ]
  }
 ],
 "metadata": {
  "kernelspec": {
   "display_name": "Python 3",
   "language": "python",
   "name": "python3"
  },
  "language_info": {
   "codemirror_mode": {
    "name": "ipython",
    "version": 3
   },
   "file_extension": ".py",
   "mimetype": "text/x-python",
   "name": "python",
   "nbconvert_exporter": "python",
   "pygments_lexer": "ipython3",
   "version": "3.6.1"
  }
 },
 "nbformat": 4,
 "nbformat_minor": 2
}
