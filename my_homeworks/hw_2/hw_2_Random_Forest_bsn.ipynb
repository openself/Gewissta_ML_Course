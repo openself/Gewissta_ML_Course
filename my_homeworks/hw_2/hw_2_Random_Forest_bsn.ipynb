{
 "cells": [
  {
   "cell_type": "markdown",
   "metadata": {},
   "source": [
    "# Случайный лес на языке R\n",
    "## Построение с помощью пакета randomForest"
   ]
  },
  {
   "cell_type": "markdown",
   "metadata": {},
   "source": [
    "### Подготовка данных"
   ]
  },
  {
   "cell_type": "markdown",
   "metadata": {},
   "source": [
    "Загружаем и смотрим данные. Помечаем пустые строковые значения как пропуски. "
   ]
  },
  {
   "cell_type": "code",
   "execution_count": 82,
   "metadata": {
    "collapsed": true
   },
   "outputs": [],
   "source": [
    "data <- read.csv2(\"./credit.csv\", colClasses = \"character\", na.strings=\"\")"
   ]
  },
  {
   "cell_type": "code",
   "execution_count": 83,
   "metadata": {
    "scrolled": true
   },
   "outputs": [
    {
     "name": "stdout",
     "output_type": "stream",
     "text": [
      "'data.frame':\t170746 obs. of  15 variables:\n",
      " $ client_id           : chr  \"1\" \"2\" \"3\" \"4\" ...\n",
      " $ gender              : chr  \"M\" \"F\" \"M\" \"F\" ...\n",
      " $ age                 : chr  \"48.0\" \"28.0\" \"32.0\" \"27.0\" ...\n",
      " $ marital_status      : chr  \"MAR\" \"MAR\" \"MAR\" \"DIV\" ...\n",
      " $ job_position        : chr  \"UMN\" \"UMN\" \"SPC\" \"SPC\" ...\n",
      " $ credit_sum          : chr  \"59998\" \"10889\" \"10728\" \"12009,09\" ...\n",
      " $ credit_month        : chr  \"10\" \"6\" \"12\" \"12\" ...\n",
      " $ tariff_id           : chr  \"28\" \"2\" \"2\" \"2\" ...\n",
      " $ score_shk           : chr  \"0,770249\" \"0,248514\" \"0,459589\" \"0,362536\" ...\n",
      " $ education           : chr  \"GRD\" \"GRD\" \"SCH\" \"GRD\" ...\n",
      " $ living_region       : chr  \"КРАСНОДАРСКИЙ КРАЙ\" \"МОСКВА\" \"САРАТОВСКАЯ ОБЛАСТЬ\" \"ВОЛГОГРАДСКАЯ ОБЛАСТЬ\" ...\n",
      " $ monthly_income      : chr  \"30000.0\" \"43000.0\" \"23000.0\" \"17000.0\" ...\n",
      " $ credit_count        : chr  \"1.0\" \"2.0\" \"5.0\" \"2.0\" ...\n",
      " $ overdue_credit_count: chr  \"1.0\" \"0.0\" \"0.0\" \"0.0\" ...\n",
      " $ open_account_flg    : chr  \"0\" \"0\" \"0\" \"0\" ...\n",
      "NULL\n"
     ]
    },
    {
     "data": {
      "text/html": [
       "<table>\n",
       "<thead><tr><th scope=col>client_id</th><th scope=col>gender</th><th scope=col>age</th><th scope=col>marital_status</th><th scope=col>job_position</th><th scope=col>credit_sum</th><th scope=col>credit_month</th><th scope=col>tariff_id</th><th scope=col>score_shk</th><th scope=col>education</th><th scope=col>living_region</th><th scope=col>monthly_income</th><th scope=col>credit_count</th><th scope=col>overdue_credit_count</th><th scope=col>open_account_flg</th></tr></thead>\n",
       "<tbody>\n",
       "\t<tr><td>1                    </td><td>M                    </td><td>48.0                 </td><td>MAR                  </td><td>UMN                  </td><td>59998                </td><td>10                   </td><td>28                   </td><td>0,770249             </td><td>GRD                  </td><td>КРАСНОДАРСКИЙ КРАЙ   </td><td>30000.0              </td><td>1.0                  </td><td>1.0                  </td><td>0                    </td></tr>\n",
       "\t<tr><td>2                    </td><td>F                    </td><td>28.0                 </td><td>MAR                  </td><td>UMN                  </td><td>10889                </td><td>6                    </td><td>2                    </td><td>0,248514             </td><td>GRD                  </td><td>МОСКВА               </td><td>43000.0              </td><td>2.0                  </td><td>0.0                  </td><td>0                    </td></tr>\n",
       "\t<tr><td>3                    </td><td>M                    </td><td>32.0                 </td><td>MAR                  </td><td>SPC                  </td><td>10728                </td><td>12                   </td><td>2                    </td><td>0,459589             </td><td>SCH                  </td><td>САРАТОВСКАЯ ОБЛАСТЬ  </td><td>23000.0              </td><td>5.0                  </td><td>0.0                  </td><td>0                    </td></tr>\n",
       "\t<tr><td>4                    </td><td>F                    </td><td>27.0                 </td><td>DIV                  </td><td>SPC                  </td><td>12009,09             </td><td>12                   </td><td>2                    </td><td>0,362536             </td><td>GRD                  </td><td>ВОЛГОГРАДСКАЯ ОБЛАСТЬ</td><td>17000.0              </td><td>2.0                  </td><td>0.0                  </td><td>0                    </td></tr>\n",
       "\t<tr><td>5                    </td><td>M                    </td><td>45.0                 </td><td>MAR                  </td><td>SPC                  </td><td>16908,89             </td><td>10                   </td><td>2                    </td><td>0,421385             </td><td>SCH                  </td><td>ЧЕЛЯБИНСКАЯ ОБЛАСТЬ  </td><td>25000.0              </td><td>1.0                  </td><td>0.0                  </td><td>0                    </td></tr>\n",
       "\t<tr><td>6                    </td><td>F                    </td><td>37.0                 </td><td>MAR                  </td><td>SPC                  </td><td>26788                </td><td>10                   </td><td>2                    </td><td>0,484203             </td><td>SCH                  </td><td>СТАВРОПОЛЬСКИЙ КРАЙ  </td><td>30000.0              </td><td>0.0                  </td><td>0.0                  </td><td>0                    </td></tr>\n",
       "</tbody>\n",
       "</table>\n"
      ],
      "text/latex": [
       "\\begin{tabular}{r|lllllllllllllll}\n",
       " client\\_id & gender & age & marital\\_status & job\\_position & credit\\_sum & credit\\_month & tariff\\_id & score\\_shk & education & living\\_region & monthly\\_income & credit\\_count & overdue\\_credit\\_count & open\\_account\\_flg\\\\\n",
       "\\hline\n",
       "\t 1                     & M                     & 48.0                  & MAR                   & UMN                   & 59998                 & 10                    & 28                    & 0,770249              & GRD                   & КРАСНОДАРСКИЙ КРАЙ    & 30000.0               & 1.0                   & 1.0                   & 0                    \\\\\n",
       "\t 2                     & F                     & 28.0                  & MAR                   & UMN                   & 10889                 & 6                     & 2                     & 0,248514              & GRD                   & МОСКВА                & 43000.0               & 2.0                   & 0.0                   & 0                    \\\\\n",
       "\t 3                     & M                     & 32.0                  & MAR                   & SPC                   & 10728                 & 12                    & 2                     & 0,459589              & SCH                   & САРАТОВСКАЯ ОБЛАСТЬ   & 23000.0               & 5.0                   & 0.0                   & 0                    \\\\\n",
       "\t 4                     & F                     & 27.0                  & DIV                   & SPC                   & 12009,09              & 12                    & 2                     & 0,362536              & GRD                   & ВОЛГОГРАДСКАЯ ОБЛАСТЬ & 17000.0               & 2.0                   & 0.0                   & 0                    \\\\\n",
       "\t 5                     & M                     & 45.0                  & MAR                   & SPC                   & 16908,89              & 10                    & 2                     & 0,421385              & SCH                   & ЧЕЛЯБИНСКАЯ ОБЛАСТЬ   & 25000.0               & 1.0                   & 0.0                   & 0                    \\\\\n",
       "\t 6                     & F                     & 37.0                  & MAR                   & SPC                   & 26788                 & 10                    & 2                     & 0,484203              & SCH                   & СТАВРОПОЛЬСКИЙ КРАЙ   & 30000.0               & 0.0                   & 0.0                   & 0                    \\\\\n",
       "\\end{tabular}\n"
      ],
      "text/markdown": [
       "\n",
       "client_id | gender | age | marital_status | job_position | credit_sum | credit_month | tariff_id | score_shk | education | living_region | monthly_income | credit_count | overdue_credit_count | open_account_flg | \n",
       "|---|---|---|---|---|---|\n",
       "| 1                     | M                     | 48.0                  | MAR                   | UMN                   | 59998                 | 10                    | 28                    | 0,770249              | GRD                   | КРАСНОДАРСКИЙ КРАЙ    | 30000.0               | 1.0                   | 1.0                   | 0                     | \n",
       "| 2                     | F                     | 28.0                  | MAR                   | UMN                   | 10889                 | 6                     | 2                     | 0,248514              | GRD                   | МОСКВА                | 43000.0               | 2.0                   | 0.0                   | 0                     | \n",
       "| 3                     | M                     | 32.0                  | MAR                   | SPC                   | 10728                 | 12                    | 2                     | 0,459589              | SCH                   | САРАТОВСКАЯ ОБЛАСТЬ   | 23000.0               | 5.0                   | 0.0                   | 0                     | \n",
       "| 4                     | F                     | 27.0                  | DIV                   | SPC                   | 12009,09              | 12                    | 2                     | 0,362536              | GRD                   | ВОЛГОГРАДСКАЯ ОБЛАСТЬ | 17000.0               | 2.0                   | 0.0                   | 0                     | \n",
       "| 5                     | M                     | 45.0                  | MAR                   | SPC                   | 16908,89              | 10                    | 2                     | 0,421385              | SCH                   | ЧЕЛЯБИНСКАЯ ОБЛАСТЬ   | 25000.0               | 1.0                   | 0.0                   | 0                     | \n",
       "| 6                     | F                     | 37.0                  | MAR                   | SPC                   | 26788                 | 10                    | 2                     | 0,484203              | SCH                   | СТАВРОПОЛЬСКИЙ КРАЙ   | 30000.0               | 0.0                   | 0.0                   | 0                     | \n",
       "\n",
       "\n"
      ],
      "text/plain": [
       "  client_id gender age  marital_status job_position credit_sum credit_month\n",
       "1 1         M      48.0 MAR            UMN          59998      10          \n",
       "2 2         F      28.0 MAR            UMN          10889      6           \n",
       "3 3         M      32.0 MAR            SPC          10728      12          \n",
       "4 4         F      27.0 DIV            SPC          12009,09   12          \n",
       "5 5         M      45.0 MAR            SPC          16908,89   10          \n",
       "6 6         F      37.0 MAR            SPC          26788      10          \n",
       "  tariff_id score_shk education living_region         monthly_income\n",
       "1 28        0,770249  GRD       КРАСНОДАРСКИЙ КРАЙ    30000.0       \n",
       "2 2         0,248514  GRD       МОСКВА                43000.0       \n",
       "3 2         0,459589  SCH       САРАТОВСКАЯ ОБЛАСТЬ   23000.0       \n",
       "4 2         0,362536  GRD       ВОЛГОГРАДСКАЯ ОБЛАСТЬ 17000.0       \n",
       "5 2         0,421385  SCH       ЧЕЛЯБИНСКАЯ ОБЛАСТЬ   25000.0       \n",
       "6 2         0,484203  SCH       СТАВРОПОЛЬСКИЙ КРАЙ   30000.0       \n",
       "  credit_count overdue_credit_count open_account_flg\n",
       "1 1.0          1.0                  0               \n",
       "2 2.0          0.0                  0               \n",
       "3 5.0          0.0                  0               \n",
       "4 2.0          0.0                  0               \n",
       "5 1.0          0.0                  0               \n",
       "6 0.0          0.0                  0               "
      ]
     },
     "metadata": {},
     "output_type": "display_data"
    }
   ],
   "source": [
    "print(str(data))\n",
    "head(data)"
   ]
  },
  {
   "cell_type": "code",
   "execution_count": 84,
   "metadata": {},
   "outputs": [
    {
     "name": "stdout",
     "output_type": "stream",
     "text": [
      "[1] \"Всего строк с пропусками: 18664\"\n"
     ]
    }
   ],
   "source": [
    "print(paste('Всего строк с пропусками:', sum(is.na(data))))\n",
    "#data[!complete.cases(data),]"
   ]
  },
  {
   "cell_type": "markdown",
   "metadata": {},
   "source": [
    "Подготавливаем данные"
   ]
  },
  {
   "cell_type": "code",
   "execution_count": 85,
   "metadata": {
    "collapsed": true
   },
   "outputs": [],
   "source": [
    "# Удаляем колонку data$client_id как не имеющую ценности для модели\n",
    "data$client_id <- NULL"
   ]
  },
  {
   "cell_type": "code",
   "execution_count": 86,
   "metadata": {},
   "outputs": [
    {
     "data": {
      "text/html": [
       "1151"
      ],
      "text/latex": [
       "1151"
      ],
      "text/markdown": [
       "1151"
      ],
      "text/plain": [
       "[1] 1151"
      ]
     },
     "metadata": {},
     "output_type": "display_data"
    }
   ],
   "source": [
    "# смотрим дублирующиеся наблюдения\n",
    "nrow(data[duplicated(data),])"
   ]
  },
  {
   "cell_type": "code",
   "execution_count": 87,
   "metadata": {},
   "outputs": [
    {
     "data": {
      "text/html": [
       "169595"
      ],
      "text/latex": [
       "169595"
      ],
      "text/markdown": [
       "169595"
      ],
      "text/plain": [
       "[1] 169595"
      ]
     },
     "metadata": {},
     "output_type": "display_data"
    }
   ],
   "source": [
    "# оставим только уникальные наблюдения  \n",
    "data <- unique(data)\n",
    "# смотрим, сколько наблюдений мы\n",
    "# теперь будем использовать  \n",
    "nrow(data)"
   ]
  },
  {
   "cell_type": "code",
   "execution_count": 88,
   "metadata": {
    "scrolled": true
   },
   "outputs": [
    {
     "name": "stdout",
     "output_type": "stream",
     "text": [
      "'data.frame':\t169595 obs. of  14 variables:\n",
      " $ gender              : chr  \"M\" \"F\" \"M\" \"F\" ...\n",
      " $ age                 : int  48 28 32 27 45 37 NA 26 23 32 ...\n",
      " $ marital_status      : chr  \"MAR\" \"MAR\" \"MAR\" \"DIV\" ...\n",
      " $ job_position        : chr  \"UMN\" \"UMN\" \"SPC\" \"SPC\" ...\n",
      " $ credit_sum          : num  59998 10889 10728 12009 16909 ...\n",
      " $ credit_month        : int  10 6 12 12 10 10 6 10 12 10 ...\n",
      " $ tariff_id           : chr  \"28\" \"2\" \"2\" \"2\" ...\n",
      " $ score_shk           : num  0.77 0.249 0.46 0.363 0.421 ...\n",
      " $ education           : chr  \"GRD\" \"GRD\" \"SCH\" \"GRD\" ...\n",
      " $ living_region       : chr  \"КРАСНОДАРСКИЙ КРАЙ\" \"МОСКВА\" \"САРАТОВСКАЯ ОБЛАСТЬ\" \"ВОЛГОГРАДСКАЯ ОБЛАСТЬ\" ...\n",
      " $ monthly_income      : num  30000 43000 23000 17000 25000 30000 28000 60000 50000 39500 ...\n",
      " $ credit_count        : int  1 2 5 2 1 0 3 3 3 7 ...\n",
      " $ overdue_credit_count: int  1 0 0 0 0 0 0 0 0 0 ...\n",
      " $ open_account_flg    : int  0 0 0 0 0 0 0 0 0 0 ...\n"
     ]
    }
   ],
   "source": [
    "data$age <- as.integer(data$age)\n",
    "data$credit_sum <- gsub(',', \".\", data$credit_sum)\n",
    "data$credit_sum <- as.numeric(data$credit_sum)\n",
    "data$credit_month <- as.integer(data$credit_month)\n",
    "data$score_shk <- gsub(',', \".\", data$score_shk)\n",
    "data$score_shk <- as.numeric(data$score_shk)\n",
    "data$monthly_income <- as.numeric(data$monthly_income)\n",
    "data$credit_count <- as.integer(data$credit_count)\n",
    "data$overdue_credit_count <- as.integer(data$overdue_credit_count)\n",
    "data$open_account_flg <- as.integer(data$open_account_flg)\n",
    "str(data)"
   ]
  },
  {
   "cell_type": "markdown",
   "metadata": {},
   "source": [
    "Разбиваем данные на обучающую и контрольную выборки"
   ]
  },
  {
   "cell_type": "code",
   "execution_count": 89,
   "metadata": {
    "collapsed": true
   },
   "outputs": [],
   "source": [
    "set.seed(42)\n",
    "data$random_number <- runif(nrow(data),0,1)\n",
    "development <- data[which(data$random_number > 0.3), ]\n",
    "holdout <- data[ which(data$random_number <= 0.3), ]\n",
    "development$random_number <- NULL\n",
    "holdout$random_number <- NULL\n",
    "data$random_number <- NULL"
   ]
  },
  {
   "cell_type": "markdown",
   "metadata": {},
   "source": [
    "Смотрим обучающую и контрольную выборки"
   ]
  },
  {
   "cell_type": "code",
   "execution_count": 90,
   "metadata": {},
   "outputs": [
    {
     "name": "stdout",
     "output_type": "stream",
     "text": [
      "'data.frame':\t118711 obs. of  14 variables:\n",
      " $ gender              : chr  \"M\" \"F\" \"F\" \"M\" ...\n",
      " $ age                 : int  48 28 27 45 37 NA 23 32 26 26 ...\n",
      " $ marital_status      : chr  \"MAR\" \"MAR\" \"DIV\" \"MAR\" ...\n",
      " $ job_position        : chr  \"UMN\" \"UMN\" \"SPC\" \"SPC\" ...\n",
      " $ credit_sum          : num  59998 10889 12009 16909 26788 ...\n",
      " $ credit_month        : int  10 6 12 10 10 6 12 10 14 10 ...\n",
      " $ tariff_id           : chr  \"28\" \"2\" \"2\" \"2\" ...\n",
      " $ score_shk           : num  0.77 0.249 0.363 0.421 0.484 ...\n",
      " $ education           : chr  \"GRD\" \"GRD\" \"GRD\" \"SCH\" ...\n",
      " $ living_region       : chr  \"КРАСНОДАРСКИЙ КРАЙ\" \"МОСКВА\" \"ВОЛГОГРАДСКАЯ ОБЛАСТЬ\" \"ЧЕЛЯБИНСКАЯ ОБЛАСТЬ\" ...\n",
      " $ monthly_income      : num  30000 43000 17000 25000 30000 28000 50000 39500 36000 30000 ...\n",
      " $ credit_count        : int  1 2 2 1 0 3 3 7 2 0 ...\n",
      " $ overdue_credit_count: int  1 0 0 0 0 0 0 0 0 0 ...\n",
      " $ open_account_flg    : int  0 0 0 0 0 0 0 0 0 0 ...\n"
     ]
    }
   ],
   "source": [
    "str(development)"
   ]
  },
  {
   "cell_type": "code",
   "execution_count": 91,
   "metadata": {},
   "outputs": [
    {
     "name": "stdout",
     "output_type": "stream",
     "text": [
      "'data.frame':\t50884 obs. of  14 variables:\n",
      " $ gender              : chr  \"M\" \"F\" \"M\" \"F\" ...\n",
      " $ age                 : int  32 26 43 54 40 26 44 64 28 32 ...\n",
      " $ marital_status      : chr  \"MAR\" \"UNM\" \"MAR\" \"UNM\" ...\n",
      " $ job_position        : chr  \"SPC\" \"SPC\" \"INP\" \"UMN\" ...\n",
      " $ credit_sum          : num  10728 47878 57567 24990 18890 ...\n",
      " $ credit_month        : int  12 10 10 12 6 10 18 10 10 10 ...\n",
      " $ tariff_id           : chr  \"2\" \"2\" \"2\" \"2\" ...\n",
      " $ score_shk           : num  0.46 0.513 0.341 0.414 0.299 ...\n",
      " $ education           : chr  \"SCH\" \"GRD\" \"GRD\" \"GRD\" ...\n",
      " $ living_region       : chr  \"САРАТОВСКАЯ ОБЛАСТЬ\" \"МОСКОВСКАЯ ОБЛАСТЬ\" \"ТЮМЕНСКАЯ ОБЛАСТЬ\" \"ТЮМЕНСКАЯ ОБЛАСТЬ\" ...\n",
      " $ monthly_income      : num  23000 60000 60000 40000 45000 30000 18400 29000 40000 30000 ...\n",
      " $ credit_count        : int  5 3 7 6 5 4 3 3 1 2 ...\n",
      " $ overdue_credit_count: int  0 0 0 0 0 0 0 0 0 0 ...\n",
      " $ open_account_flg    : int  0 0 0 1 1 0 0 0 0 0 ...\n"
     ]
    }
   ],
   "source": [
    "str(holdout)"
   ]
  },
  {
   "cell_type": "markdown",
   "metadata": {},
   "source": [
    "импутация пропусков"
   ]
  },
  {
   "cell_type": "code",
   "execution_count": 92,
   "metadata": {},
   "outputs": [
    {
     "data": {
      "text/html": [
       "<dl class=dl-horizontal>\n",
       "\t<dt>gender</dt>\n",
       "\t\t<dd>0</dd>\n",
       "\t<dt>age</dt>\n",
       "\t\t<dd>2</dd>\n",
       "\t<dt>marital_status</dt>\n",
       "\t\t<dd>2</dd>\n",
       "\t<dt>job_position</dt>\n",
       "\t\t<dd>0</dd>\n",
       "\t<dt>credit_sum</dt>\n",
       "\t\t<dd>1</dd>\n",
       "\t<dt>credit_month</dt>\n",
       "\t\t<dd>0</dd>\n",
       "\t<dt>tariff_id</dt>\n",
       "\t\t<dd>0</dd>\n",
       "\t<dt>score_shk</dt>\n",
       "\t\t<dd>3</dd>\n",
       "\t<dt>education</dt>\n",
       "\t\t<dd>3</dd>\n",
       "\t<dt>living_region</dt>\n",
       "\t\t<dd>139</dd>\n",
       "\t<dt>monthly_income</dt>\n",
       "\t\t<dd>1</dd>\n",
       "\t<dt>credit_count</dt>\n",
       "\t\t<dd>6463</dd>\n",
       "\t<dt>overdue_credit_count</dt>\n",
       "\t\t<dd>6463</dd>\n",
       "\t<dt>open_account_flg</dt>\n",
       "\t\t<dd>0</dd>\n",
       "</dl>\n"
      ],
      "text/latex": [
       "\\begin{description*}\n",
       "\\item[gender] 0\n",
       "\\item[age] 2\n",
       "\\item[marital\\textbackslash{}\\_status] 2\n",
       "\\item[job\\textbackslash{}\\_position] 0\n",
       "\\item[credit\\textbackslash{}\\_sum] 1\n",
       "\\item[credit\\textbackslash{}\\_month] 0\n",
       "\\item[tariff\\textbackslash{}\\_id] 0\n",
       "\\item[score\\textbackslash{}\\_shk] 3\n",
       "\\item[education] 3\n",
       "\\item[living\\textbackslash{}\\_region] 139\n",
       "\\item[monthly\\textbackslash{}\\_income] 1\n",
       "\\item[credit\\textbackslash{}\\_count] 6463\n",
       "\\item[overdue\\textbackslash{}\\_credit\\textbackslash{}\\_count] 6463\n",
       "\\item[open\\textbackslash{}\\_account\\textbackslash{}\\_flg] 0\n",
       "\\end{description*}\n"
      ],
      "text/markdown": [
       "gender\n",
       ":   0age\n",
       ":   2marital_status\n",
       ":   2job_position\n",
       ":   0credit_sum\n",
       ":   1credit_month\n",
       ":   0tariff_id\n",
       ":   0score_shk\n",
       ":   3education\n",
       ":   3living_region\n",
       ":   139monthly_income\n",
       ":   1credit_count\n",
       ":   6463overdue_credit_count\n",
       ":   6463open_account_flg\n",
       ":   0\n",
       "\n"
      ],
      "text/plain": [
       "              gender                  age       marital_status \n",
       "                   0                    2                    2 \n",
       "        job_position           credit_sum         credit_month \n",
       "                   0                    1                    0 \n",
       "           tariff_id            score_shk            education \n",
       "                   0                    3                    3 \n",
       "       living_region       monthly_income         credit_count \n",
       "                 139                    1                 6463 \n",
       "overdue_credit_count     open_account_flg \n",
       "                6463                    0 "
      ]
     },
     "metadata": {},
     "output_type": "display_data"
    },
    {
     "data": {
      "text/html": [
       "<dl>\n",
       "\t<dt>$gender</dt>\n",
       "\t\t<dd>'F'</dd>\n",
       "\t<dt>$age</dt>\n",
       "\t\t<dd>34</dd>\n",
       "\t<dt>$marital_status</dt>\n",
       "\t\t<dd>'MAR'</dd>\n",
       "\t<dt>$job_position</dt>\n",
       "\t\t<dd>'SPC'</dd>\n",
       "\t<dt>$credit_sum</dt>\n",
       "\t\t<dd>21269</dd>\n",
       "\t<dt>$credit_month</dt>\n",
       "\t\t<dd>10</dd>\n",
       "\t<dt>$tariff_id</dt>\n",
       "\t\t<dd>'2'</dd>\n",
       "\t<dt>$score_shk</dt>\n",
       "\t\t<dd>0.461799</dd>\n",
       "\t<dt>$education</dt>\n",
       "\t\t<dd>'SCH'</dd>\n",
       "\t<dt>$living_region</dt>\n",
       "\t\t<dd>'МОСКОВСКАЯ ОБЛАСТЬ'</dd>\n",
       "\t<dt>$monthly_income</dt>\n",
       "\t\t<dd>35000</dd>\n",
       "\t<dt>$credit_count</dt>\n",
       "\t\t<dd>2</dd>\n",
       "\t<dt>$overdue_credit_count</dt>\n",
       "\t\t<dd>0</dd>\n",
       "\t<dt>$open_account_flg</dt>\n",
       "\t\t<dd>0</dd>\n",
       "</dl>\n"
      ],
      "text/latex": [
       "\\begin{description}\n",
       "\\item[\\$gender] 'F'\n",
       "\\item[\\$age] 34\n",
       "\\item[\\$marital\\_status] 'MAR'\n",
       "\\item[\\$job\\_position] 'SPC'\n",
       "\\item[\\$credit\\_sum] 21269\n",
       "\\item[\\$credit\\_month] 10\n",
       "\\item[\\$tariff\\_id] '2'\n",
       "\\item[\\$score\\_shk] 0.461799\n",
       "\\item[\\$education] 'SCH'\n",
       "\\item[\\$living\\_region] 'МОСКОВСКАЯ ОБЛАСТЬ'\n",
       "\\item[\\$monthly\\_income] 35000\n",
       "\\item[\\$credit\\_count] 2\n",
       "\\item[\\$overdue\\_credit\\_count] 0\n",
       "\\item[\\$open\\_account\\_flg] 0\n",
       "\\end{description}\n"
      ],
      "text/markdown": [
       "$gender\n",
       ":   'F'\n",
       "$age\n",
       ":   34\n",
       "$marital_status\n",
       ":   'MAR'\n",
       "$job_position\n",
       ":   'SPC'\n",
       "$credit_sum\n",
       ":   21269\n",
       "$credit_month\n",
       ":   10\n",
       "$tariff_id\n",
       ":   '2'\n",
       "$score_shk\n",
       ":   0.461799\n",
       "$education\n",
       ":   'SCH'\n",
       "$living_region\n",
       ":   'МОСКОВСКАЯ ОБЛАСТЬ'\n",
       "$monthly_income\n",
       ":   35000\n",
       "$credit_count\n",
       ":   2\n",
       "$overdue_credit_count\n",
       ":   0\n",
       "$open_account_flg\n",
       ":   0\n",
       "\n",
       "\n"
      ],
      "text/plain": [
       "$gender\n",
       "[1] \"F\"\n",
       "\n",
       "$age\n",
       "[1] 34\n",
       "\n",
       "$marital_status\n",
       "[1] \"MAR\"\n",
       "\n",
       "$job_position\n",
       "[1] \"SPC\"\n",
       "\n",
       "$credit_sum\n",
       "[1] 21269\n",
       "\n",
       "$credit_month\n",
       "[1] 10\n",
       "\n",
       "$tariff_id\n",
       "[1] \"2\"\n",
       "\n",
       "$score_shk\n",
       "[1] 0.461799\n",
       "\n",
       "$education\n",
       "[1] \"SCH\"\n",
       "\n",
       "$living_region\n",
       "[1] \"МОСКОВСКАЯ ОБЛАСТЬ\"\n",
       "\n",
       "$monthly_income\n",
       "[1] 35000\n",
       "\n",
       "$credit_count\n",
       "[1] 2\n",
       "\n",
       "$overdue_credit_count\n",
       "[1] 0\n",
       "\n",
       "$open_account_flg\n",
       "[1] 0\n"
      ]
     },
     "metadata": {},
     "output_type": "display_data"
    }
   ],
   "source": [
    "library(imputeMissings)\n",
    "# С помощью функции colSums пакета imputeMissings выводим сводку по пропускам\n",
    "colSums(is.na(development))\n",
    "\n",
    "# Вычисляем с помощью функции compute пакета imputeMissings медианы для количественных\n",
    "# переменных и моды для категориальных переменных\n",
    "values <- compute(development)\n",
    "values"
   ]
  },
  {
   "cell_type": "code",
   "execution_count": 93,
   "metadata": {},
   "outputs": [
    {
     "data": {
      "text/html": [
       "<dl class=dl-horizontal>\n",
       "\t<dt>gender</dt>\n",
       "\t\t<dd>0</dd>\n",
       "\t<dt>age</dt>\n",
       "\t\t<dd>0</dd>\n",
       "\t<dt>marital_status</dt>\n",
       "\t\t<dd>0</dd>\n",
       "\t<dt>job_position</dt>\n",
       "\t\t<dd>0</dd>\n",
       "\t<dt>credit_sum</dt>\n",
       "\t\t<dd>0</dd>\n",
       "\t<dt>credit_month</dt>\n",
       "\t\t<dd>0</dd>\n",
       "\t<dt>tariff_id</dt>\n",
       "\t\t<dd>0</dd>\n",
       "\t<dt>score_shk</dt>\n",
       "\t\t<dd>0</dd>\n",
       "\t<dt>education</dt>\n",
       "\t\t<dd>0</dd>\n",
       "\t<dt>living_region</dt>\n",
       "\t\t<dd>0</dd>\n",
       "\t<dt>monthly_income</dt>\n",
       "\t\t<dd>0</dd>\n",
       "\t<dt>credit_count</dt>\n",
       "\t\t<dd>0</dd>\n",
       "\t<dt>overdue_credit_count</dt>\n",
       "\t\t<dd>0</dd>\n",
       "\t<dt>open_account_flg</dt>\n",
       "\t\t<dd>0</dd>\n",
       "</dl>\n"
      ],
      "text/latex": [
       "\\begin{description*}\n",
       "\\item[gender] 0\n",
       "\\item[age] 0\n",
       "\\item[marital\\textbackslash{}\\_status] 0\n",
       "\\item[job\\textbackslash{}\\_position] 0\n",
       "\\item[credit\\textbackslash{}\\_sum] 0\n",
       "\\item[credit\\textbackslash{}\\_month] 0\n",
       "\\item[tariff\\textbackslash{}\\_id] 0\n",
       "\\item[score\\textbackslash{}\\_shk] 0\n",
       "\\item[education] 0\n",
       "\\item[living\\textbackslash{}\\_region] 0\n",
       "\\item[monthly\\textbackslash{}\\_income] 0\n",
       "\\item[credit\\textbackslash{}\\_count] 0\n",
       "\\item[overdue\\textbackslash{}\\_credit\\textbackslash{}\\_count] 0\n",
       "\\item[open\\textbackslash{}\\_account\\textbackslash{}\\_flg] 0\n",
       "\\end{description*}\n"
      ],
      "text/markdown": [
       "gender\n",
       ":   0age\n",
       ":   0marital_status\n",
       ":   0job_position\n",
       ":   0credit_sum\n",
       ":   0credit_month\n",
       ":   0tariff_id\n",
       ":   0score_shk\n",
       ":   0education\n",
       ":   0living_region\n",
       ":   0monthly_income\n",
       ":   0credit_count\n",
       ":   0overdue_credit_count\n",
       ":   0open_account_flg\n",
       ":   0\n",
       "\n"
      ],
      "text/plain": [
       "              gender                  age       marital_status \n",
       "                   0                    0                    0 \n",
       "        job_position           credit_sum         credit_month \n",
       "                   0                    0                    0 \n",
       "           tariff_id            score_shk            education \n",
       "                   0                    0                    0 \n",
       "       living_region       monthly_income         credit_count \n",
       "                   0                    0                    0 \n",
       "overdue_credit_count     open_account_flg \n",
       "                   0                    0 "
      ]
     },
     "metadata": {},
     "output_type": "display_data"
    }
   ],
   "source": [
    "# Загружаем пакет imputeTS\n",
    "library(imputeTS)\n",
    "\n",
    "# Выполняем импутацию модами и медианами\n",
    "development$age <- na.replace(development$age, fill = 34)\n",
    "development$marital_status <- ifelse(is.na(development$marital_status), 'MAR', development$marital_status)\n",
    "development$credit_sum <- na.replace(development$credit_sum, fill = 21269)\n",
    "development$score_shk <- na.replace(development$score_shk, fill = 0.461799)\n",
    "development$education <- ifelse(is.na(development$education), 'SCH', development$education)\n",
    "\n",
    "# Пропущенные значения living_region заполняем значением 'НЕ УКАЗАН' (создаем отдельную категорию для пропусков)\n",
    "development$living_region <- ifelse(is.na(development$living_region), 'НЕ УКАЗАН', development$living_region)\n",
    "\n",
    "# credit_count и overdue_credit_count заполняем значением 999\n",
    "development$credit_count <- na.replace(development$credit_count, fill = 999999999)\n",
    "development$overdue_credit_count <- na.replace(development$overdue_credit_count, fill = 999999999)\n",
    "\n",
    "# Пропущенные значения среднего дохода в идеале нужно пытаться восстанавливать с учетом разделения в России дохода\n",
    "# по полу и регионам.\n",
    "# Но в данной тестовой выборке только 1 пропущенное значение из 6556 строк, а в контрольной - вообще нет таких значений. \n",
    "# Поэтому просто заменим средним по выборке.\n",
    "development$monthly_income <- na.replace(development$monthly_income, fill = 35000)\n",
    "\n",
    "# выводим сводку по пропускам\n",
    "colSums(is.na(development))"
   ]
  },
  {
   "cell_type": "markdown",
   "metadata": {},
   "source": [
    "Повторяем для контрольной выборки"
   ]
  },
  {
   "cell_type": "code",
   "execution_count": 94,
   "metadata": {},
   "outputs": [
    {
     "data": {
      "text/html": [
       "<dl class=dl-horizontal>\n",
       "\t<dt>gender</dt>\n",
       "\t\t<dd>0</dd>\n",
       "\t<dt>age</dt>\n",
       "\t\t<dd>0</dd>\n",
       "\t<dt>marital_status</dt>\n",
       "\t\t<dd>0</dd>\n",
       "\t<dt>job_position</dt>\n",
       "\t\t<dd>0</dd>\n",
       "\t<dt>credit_sum</dt>\n",
       "\t\t<dd>0</dd>\n",
       "\t<dt>credit_month</dt>\n",
       "\t\t<dd>0</dd>\n",
       "\t<dt>tariff_id</dt>\n",
       "\t\t<dd>0</dd>\n",
       "\t<dt>score_shk</dt>\n",
       "\t\t<dd>0</dd>\n",
       "\t<dt>education</dt>\n",
       "\t\t<dd>0</dd>\n",
       "\t<dt>living_region</dt>\n",
       "\t\t<dd>50</dd>\n",
       "\t<dt>monthly_income</dt>\n",
       "\t\t<dd>0</dd>\n",
       "\t<dt>credit_count</dt>\n",
       "\t\t<dd>2727</dd>\n",
       "\t<dt>overdue_credit_count</dt>\n",
       "\t\t<dd>2727</dd>\n",
       "\t<dt>open_account_flg</dt>\n",
       "\t\t<dd>0</dd>\n",
       "</dl>\n"
      ],
      "text/latex": [
       "\\begin{description*}\n",
       "\\item[gender] 0\n",
       "\\item[age] 0\n",
       "\\item[marital\\textbackslash{}\\_status] 0\n",
       "\\item[job\\textbackslash{}\\_position] 0\n",
       "\\item[credit\\textbackslash{}\\_sum] 0\n",
       "\\item[credit\\textbackslash{}\\_month] 0\n",
       "\\item[tariff\\textbackslash{}\\_id] 0\n",
       "\\item[score\\textbackslash{}\\_shk] 0\n",
       "\\item[education] 0\n",
       "\\item[living\\textbackslash{}\\_region] 50\n",
       "\\item[monthly\\textbackslash{}\\_income] 0\n",
       "\\item[credit\\textbackslash{}\\_count] 2727\n",
       "\\item[overdue\\textbackslash{}\\_credit\\textbackslash{}\\_count] 2727\n",
       "\\item[open\\textbackslash{}\\_account\\textbackslash{}\\_flg] 0\n",
       "\\end{description*}\n"
      ],
      "text/markdown": [
       "gender\n",
       ":   0age\n",
       ":   0marital_status\n",
       ":   0job_position\n",
       ":   0credit_sum\n",
       ":   0credit_month\n",
       ":   0tariff_id\n",
       ":   0score_shk\n",
       ":   0education\n",
       ":   0living_region\n",
       ":   50monthly_income\n",
       ":   0credit_count\n",
       ":   2727overdue_credit_count\n",
       ":   2727open_account_flg\n",
       ":   0\n",
       "\n"
      ],
      "text/plain": [
       "              gender                  age       marital_status \n",
       "                   0                    0                    0 \n",
       "        job_position           credit_sum         credit_month \n",
       "                   0                    0                    0 \n",
       "           tariff_id            score_shk            education \n",
       "                   0                    0                    0 \n",
       "       living_region       monthly_income         credit_count \n",
       "                  50                    0                 2727 \n",
       "overdue_credit_count     open_account_flg \n",
       "                2727                    0 "
      ]
     },
     "metadata": {},
     "output_type": "display_data"
    },
    {
     "data": {
      "text/html": [
       "<dl>\n",
       "\t<dt>$gender</dt>\n",
       "\t\t<dd>'F'</dd>\n",
       "\t<dt>$age</dt>\n",
       "\t\t<dd>35</dd>\n",
       "\t<dt>$marital_status</dt>\n",
       "\t\t<dd>'MAR'</dd>\n",
       "\t<dt>$job_position</dt>\n",
       "\t\t<dd>'SPC'</dd>\n",
       "\t<dt>$credit_sum</dt>\n",
       "\t\t<dd>21119</dd>\n",
       "\t<dt>$credit_month</dt>\n",
       "\t\t<dd>10</dd>\n",
       "\t<dt>$tariff_id</dt>\n",
       "\t\t<dd>'2'</dd>\n",
       "\t<dt>$score_shk</dt>\n",
       "\t\t<dd>0.460917</dd>\n",
       "\t<dt>$education</dt>\n",
       "\t\t<dd>'SCH'</dd>\n",
       "\t<dt>$living_region</dt>\n",
       "\t\t<dd>'МОСКОВСКАЯ ОБЛАСТЬ'</dd>\n",
       "\t<dt>$monthly_income</dt>\n",
       "\t\t<dd>35000</dd>\n",
       "\t<dt>$credit_count</dt>\n",
       "\t\t<dd>2</dd>\n",
       "\t<dt>$overdue_credit_count</dt>\n",
       "\t\t<dd>0</dd>\n",
       "\t<dt>$open_account_flg</dt>\n",
       "\t\t<dd>0</dd>\n",
       "</dl>\n"
      ],
      "text/latex": [
       "\\begin{description}\n",
       "\\item[\\$gender] 'F'\n",
       "\\item[\\$age] 35\n",
       "\\item[\\$marital\\_status] 'MAR'\n",
       "\\item[\\$job\\_position] 'SPC'\n",
       "\\item[\\$credit\\_sum] 21119\n",
       "\\item[\\$credit\\_month] 10\n",
       "\\item[\\$tariff\\_id] '2'\n",
       "\\item[\\$score\\_shk] 0.460917\n",
       "\\item[\\$education] 'SCH'\n",
       "\\item[\\$living\\_region] 'МОСКОВСКАЯ ОБЛАСТЬ'\n",
       "\\item[\\$monthly\\_income] 35000\n",
       "\\item[\\$credit\\_count] 2\n",
       "\\item[\\$overdue\\_credit\\_count] 0\n",
       "\\item[\\$open\\_account\\_flg] 0\n",
       "\\end{description}\n"
      ],
      "text/markdown": [
       "$gender\n",
       ":   'F'\n",
       "$age\n",
       ":   35\n",
       "$marital_status\n",
       ":   'MAR'\n",
       "$job_position\n",
       ":   'SPC'\n",
       "$credit_sum\n",
       ":   21119\n",
       "$credit_month\n",
       ":   10\n",
       "$tariff_id\n",
       ":   '2'\n",
       "$score_shk\n",
       ":   0.460917\n",
       "$education\n",
       ":   'SCH'\n",
       "$living_region\n",
       ":   'МОСКОВСКАЯ ОБЛАСТЬ'\n",
       "$monthly_income\n",
       ":   35000\n",
       "$credit_count\n",
       ":   2\n",
       "$overdue_credit_count\n",
       ":   0\n",
       "$open_account_flg\n",
       ":   0\n",
       "\n",
       "\n"
      ],
      "text/plain": [
       "$gender\n",
       "[1] \"F\"\n",
       "\n",
       "$age\n",
       "[1] 35\n",
       "\n",
       "$marital_status\n",
       "[1] \"MAR\"\n",
       "\n",
       "$job_position\n",
       "[1] \"SPC\"\n",
       "\n",
       "$credit_sum\n",
       "[1] 21119\n",
       "\n",
       "$credit_month\n",
       "[1] 10\n",
       "\n",
       "$tariff_id\n",
       "[1] \"2\"\n",
       "\n",
       "$score_shk\n",
       "[1] 0.460917\n",
       "\n",
       "$education\n",
       "[1] \"SCH\"\n",
       "\n",
       "$living_region\n",
       "[1] \"МОСКОВСКАЯ ОБЛАСТЬ\"\n",
       "\n",
       "$monthly_income\n",
       "[1] 35000\n",
       "\n",
       "$credit_count\n",
       "[1] 2\n",
       "\n",
       "$overdue_credit_count\n",
       "[1] 0\n",
       "\n",
       "$open_account_flg\n",
       "[1] 0\n"
      ]
     },
     "metadata": {},
     "output_type": "display_data"
    }
   ],
   "source": [
    "# выводим сводку по пропускам\n",
    "colSums(is.na(holdout))\n",
    "\n",
    "# Вычисляем медианы для количественных переменных и моды для категориальных переменных\n",
    "values <- compute(holdout)\n",
    "values"
   ]
  },
  {
   "cell_type": "code",
   "execution_count": 95,
   "metadata": {},
   "outputs": [
    {
     "data": {
      "text/html": [
       "<dl class=dl-horizontal>\n",
       "\t<dt>gender</dt>\n",
       "\t\t<dd>0</dd>\n",
       "\t<dt>age</dt>\n",
       "\t\t<dd>0</dd>\n",
       "\t<dt>marital_status</dt>\n",
       "\t\t<dd>0</dd>\n",
       "\t<dt>job_position</dt>\n",
       "\t\t<dd>0</dd>\n",
       "\t<dt>credit_sum</dt>\n",
       "\t\t<dd>0</dd>\n",
       "\t<dt>credit_month</dt>\n",
       "\t\t<dd>0</dd>\n",
       "\t<dt>tariff_id</dt>\n",
       "\t\t<dd>0</dd>\n",
       "\t<dt>score_shk</dt>\n",
       "\t\t<dd>0</dd>\n",
       "\t<dt>education</dt>\n",
       "\t\t<dd>0</dd>\n",
       "\t<dt>living_region</dt>\n",
       "\t\t<dd>0</dd>\n",
       "\t<dt>monthly_income</dt>\n",
       "\t\t<dd>0</dd>\n",
       "\t<dt>credit_count</dt>\n",
       "\t\t<dd>0</dd>\n",
       "\t<dt>overdue_credit_count</dt>\n",
       "\t\t<dd>0</dd>\n",
       "\t<dt>open_account_flg</dt>\n",
       "\t\t<dd>0</dd>\n",
       "</dl>\n"
      ],
      "text/latex": [
       "\\begin{description*}\n",
       "\\item[gender] 0\n",
       "\\item[age] 0\n",
       "\\item[marital\\textbackslash{}\\_status] 0\n",
       "\\item[job\\textbackslash{}\\_position] 0\n",
       "\\item[credit\\textbackslash{}\\_sum] 0\n",
       "\\item[credit\\textbackslash{}\\_month] 0\n",
       "\\item[tariff\\textbackslash{}\\_id] 0\n",
       "\\item[score\\textbackslash{}\\_shk] 0\n",
       "\\item[education] 0\n",
       "\\item[living\\textbackslash{}\\_region] 0\n",
       "\\item[monthly\\textbackslash{}\\_income] 0\n",
       "\\item[credit\\textbackslash{}\\_count] 0\n",
       "\\item[overdue\\textbackslash{}\\_credit\\textbackslash{}\\_count] 0\n",
       "\\item[open\\textbackslash{}\\_account\\textbackslash{}\\_flg] 0\n",
       "\\end{description*}\n"
      ],
      "text/markdown": [
       "gender\n",
       ":   0age\n",
       ":   0marital_status\n",
       ":   0job_position\n",
       ":   0credit_sum\n",
       ":   0credit_month\n",
       ":   0tariff_id\n",
       ":   0score_shk\n",
       ":   0education\n",
       ":   0living_region\n",
       ":   0monthly_income\n",
       ":   0credit_count\n",
       ":   0overdue_credit_count\n",
       ":   0open_account_flg\n",
       ":   0\n",
       "\n"
      ],
      "text/plain": [
       "              gender                  age       marital_status \n",
       "                   0                    0                    0 \n",
       "        job_position           credit_sum         credit_month \n",
       "                   0                    0                    0 \n",
       "           tariff_id            score_shk            education \n",
       "                   0                    0                    0 \n",
       "       living_region       monthly_income         credit_count \n",
       "                   0                    0                    0 \n",
       "overdue_credit_count     open_account_flg \n",
       "                   0                    0 "
      ]
     },
     "metadata": {},
     "output_type": "display_data"
    }
   ],
   "source": [
    "# Пропущенные значения living_region заполняем значением 'НЕ УКАЗАН' (создаем отдельную категорию для пропусков)\n",
    "holdout$living_region <- ifelse(is.na(holdout$living_region), 'НЕ УКАЗАН', holdout$living_region)\n",
    "\n",
    "# credit_count и overdue_credit_count заполняем значением 999999999\n",
    "holdout$credit_count <- na.replace(holdout$credit_count, fill = 999999999)\n",
    "holdout$overdue_credit_count <- na.replace(holdout$overdue_credit_count, fill = 999999999)\n",
    "\n",
    "# выводим сводку по пропускам\n",
    "colSums(is.na(holdout))\n",
    "\n",
    "# выгружаем пакеты\n",
    "detach(\"package:imputeMissings\", unload=TRUE)\n",
    "detach(\"package:imputeTS\", unload=TRUE)"
   ]
  },
  {
   "cell_type": "code",
   "execution_count": 96,
   "metadata": {},
   "outputs": [
    {
     "name": "stderr",
     "output_type": "stream",
     "text": [
      "\n",
      "Attaching package: 'Hmisc'\n",
      "\n",
      "The following objects are masked from 'package:base':\n",
      "\n",
      "    format.pval, units\n",
      "\n"
     ]
    },
    {
     "data": {
      "text/plain": [
       "development \n",
       "\n",
       " 14  Variables      118711  Observations\n",
       "--------------------------------------------------------------------------------\n",
       "gender \n",
       "       n  missing distinct \n",
       "  118711        0        2 \n",
       "                      \n",
       "Value          F     M\n",
       "Frequency  61783 56928\n",
       "Proportion  0.52  0.48\n",
       "--------------------------------------------------------------------------------\n",
       "age \n",
       "       n  missing distinct     Info     Mean      Gmd      .05      .10 \n",
       "  118711        0       54    0.999    36.49    11.79       23       24 \n",
       "     .25      .50      .75      .90      .95 \n",
       "      28       34       43       52       57 \n",
       "\n",
       "lowest : 18 19 20 21 22, highest: 67 68 69 70 71\n",
       "--------------------------------------------------------------------------------\n",
       "marital_status \n",
       "       n  missing distinct \n",
       "  118711        0        5 \n",
       "                                        \n",
       "Value        CIV   DIV   MAR   UNM   WID\n",
       "Frequency   2883 11754 65252 36382  2440\n",
       "Proportion 0.024 0.099 0.550 0.306 0.021\n",
       "--------------------------------------------------------------------------------\n",
       "job_position \n",
       "       n  missing distinct \n",
       "  118711        0       18 \n",
       "                                                                            \n",
       "Value        ATP   BIS   BIU   DIR   HSK   INP   INV   NOR   ONB   PNA   PNI\n",
       "Frequency   1974  3891    83  2614     6   159     3   370     1  2880    46\n",
       "Proportion 0.017 0.033 0.001 0.022 0.000 0.001 0.000 0.003 0.000 0.024 0.000\n",
       "                                                    \n",
       "Value        PNS   PNV   SPC   UMN   WOI   WRK   WRP\n",
       "Frequency      5    28 93597 12275   253   440    86\n",
       "Proportion 0.000 0.000 0.788 0.103 0.002 0.004 0.001\n",
       "--------------------------------------------------------------------------------\n",
       "credit_sum \n",
       "       n  missing distinct     Info     Mean      Gmd      .05      .10 \n",
       "  118711        0    35316        1    26129    17049     8060    10669 \n",
       "     .25      .50      .75      .90      .95 \n",
       "   14918    21269    32177    50568    59934 \n",
       "\n",
       "lowest :   3000.0   3000.4   3029.0   3036.2   3039.0\n",
       "highest: 180000.0 187768.0 189734.0 194570.0 200000.0\n",
       "--------------------------------------------------------------------------------\n",
       "credit_month \n",
       "       n  missing distinct     Info     Mean      Gmd      .05      .10 \n",
       "  118711        0       31    0.805    10.99    2.859        6       10 \n",
       "     .25      .50      .75      .90      .95 \n",
       "      10       10       12       12       18 \n",
       "\n",
       "lowest :  3  4  5  6  7, highest: 29 30 31 32 36\n",
       "--------------------------------------------------------------------------------\n",
       "tariff_id \n",
       "       n  missing distinct \n",
       "  118711        0       33 \n",
       "\n",
       "lowest : 1  10 11 12 13, highest: 5  6  7  8  9 \n",
       "--------------------------------------------------------------------------------\n",
       "score_shk \n",
       "       n  missing distinct     Info     Mean      Gmd      .05      .10 \n",
       "  118711        0    15462        1   0.4698   0.1408   0.2794   0.3155 \n",
       "     .25      .50      .75      .90      .95 \n",
       "  0.3800   0.4618   0.5526   0.6427   0.6920 \n",
       "\n",
       "lowest : 0.000000 0.071819 0.076782 0.077950 0.080761\n",
       "highest: 0.975435 0.976126 0.978480 1.041122 1.054699\n",
       "--------------------------------------------------------------------------------\n",
       "education \n",
       "       n  missing distinct \n",
       "  118711        0        5 \n",
       "                                        \n",
       "Value        ACD   GRD   PGR   SCH   UGR\n",
       "Frequency     75 50355   379 61003  6899\n",
       "Proportion 0.001 0.424 0.003 0.514 0.058\n",
       "--------------------------------------------------------------------------------\n",
       "living_region \n",
       "       n  missing distinct \n",
       "  118711        0       82 \n",
       "\n",
       "lowest : АЛТАЙСКИЙ КРАЙ             АМУРСКАЯ ОБЛАСТЬ           АРХАНГЕЛЬСКАЯ ОБЛАСТЬ      АСТРАХАНСКАЯ ОБЛАСТЬ       БЕЛГОРОДСКАЯ ОБЛАСТЬ      \n",
       "highest: ЧЕЧЕНСКАЯ РЕСПУБЛИКА       ЧИТИНСКАЯ ОБЛАСТЬ          ЧУВАШСКАЯ РЕСПУБЛИКА       ЧУКОТСКИЙ АВТОНОМНЫЙ ОКРУГ ЯРОСЛАВСКАЯ ОБЛАСТЬ       \n",
       "--------------------------------------------------------------------------------\n",
       "monthly_income \n",
       "       n  missing distinct     Info     Mean      Gmd      .05      .10 \n",
       "  118711        0     1312    0.997    40116    22855    15000    20000 \n",
       "     .25      .50      .75      .90      .95 \n",
       "   25000    35000    50000    67000    80000 \n",
       "\n",
       "lowest :   5000   5600   6000   6300   6434, highest: 680000 700000 750000 800000 950000\n",
       "--------------------------------------------------------------------------------\n",
       "credit_count \n",
       "       n  missing distinct     Info     Mean      Gmd      .05      .10 \n",
       "  118711        0       22    0.964 54443145 1.03e+08    0e+00    0e+00 \n",
       "     .25      .50      .75      .90      .95 \n",
       "   1e+00    2e+00    3e+00    6e+00    1e+09 \n",
       "                        \n",
       "Value       0e+00  1e+09\n",
       "Frequency  112248   6463\n",
       "Proportion  0.946  0.054\n",
       "--------------------------------------------------------------------------------\n",
       "overdue_credit_count \n",
       "       n  missing distinct     Info     Mean      Gmd \n",
       "  118711        0        5    0.265 54443143 1.03e+08 \n",
       "                                             \n",
       "Value       0e+00  1e+00  2e+00  3e+00  1e+09\n",
       "Frequency  107112   5096     36      4   6463\n",
       "Proportion  0.902  0.043  0.000  0.000  0.054\n",
       "--------------------------------------------------------------------------------\n",
       "open_account_flg \n",
       "       n  missing distinct     Info      Sum     Mean      Gmd \n",
       "  118711        0        2    0.436    20924   0.1763   0.2904 \n",
       "\n",
       "--------------------------------------------------------------------------------"
      ]
     },
     "metadata": {},
     "output_type": "display_data"
    },
    {
     "data": {
      "text/plain": [
       "holdout \n",
       "\n",
       " 14  Variables      50884  Observations\n",
       "--------------------------------------------------------------------------------\n",
       "gender \n",
       "       n  missing distinct \n",
       "   50884        0        2 \n",
       "                      \n",
       "Value          F     M\n",
       "Frequency  26314 24570\n",
       "Proportion 0.517 0.483\n",
       "--------------------------------------------------------------------------------\n",
       "age \n",
       "       n  missing distinct     Info     Mean      Gmd      .05      .10 \n",
       "   50884        0       54    0.999    36.53    11.76       23       25 \n",
       "     .25      .50      .75      .90      .95 \n",
       "      28       35       43       52       57 \n",
       "\n",
       "lowest : 18 19 20 21 22, highest: 67 68 69 70 71\n",
       "--------------------------------------------------------------------------------\n",
       "marital_status \n",
       "       n  missing distinct \n",
       "   50884        0        5 \n",
       "                                        \n",
       "Value        CIV   DIV   MAR   UNM   WID\n",
       "Frequency   1284  5082 28061 15445  1012\n",
       "Proportion 0.025 0.100 0.551 0.304 0.020\n",
       "--------------------------------------------------------------------------------\n",
       "job_position \n",
       "       n  missing distinct \n",
       "   50884        0       17 \n",
       "                                                                            \n",
       "Value        ATP   BIS   BIU   DIR   HSK   INP   INV   NOR   PNA   PNI   PNS\n",
       "Frequency    804  1658    42  1113     2    81     2   167  1210    19     7\n",
       "Proportion 0.016 0.033 0.001 0.022 0.000 0.002 0.000 0.003 0.024 0.000 0.000\n",
       "                                              \n",
       "Value        PNV   SPC   UMN   WOI   WRK   WRP\n",
       "Frequency     12 40116  5316    98   213    24\n",
       "Proportion 0.000 0.788 0.104 0.002 0.004 0.000\n",
       "--------------------------------------------------------------------------------\n",
       "credit_sum \n",
       "       n  missing distinct     Info     Mean      Gmd      .05      .10 \n",
       "   50884        0    21489        1    25958    16947     8018    10639 \n",
       "     .25      .50      .75      .90      .95 \n",
       "   14856    21119    31697    50578    59666 \n",
       "\n",
       "lowest :   2736   3000   3011   3030   3039, highest: 146160 154800 177480 184732 200000\n",
       "--------------------------------------------------------------------------------\n",
       "credit_month \n",
       "       n  missing distinct     Info     Mean      Gmd      .05      .10 \n",
       "   50884        0       28    0.807    10.98    2.888        6       10 \n",
       "     .25      .50      .75      .90      .95 \n",
       "      10       10       12       12       18 \n",
       "\n",
       "lowest :  3  4  5  6  7, highest: 26 28 30 32 36\n",
       "--------------------------------------------------------------------------------\n",
       "tariff_id \n",
       "       n  missing distinct \n",
       "   50884        0       30 \n",
       "\n",
       "lowest : 1  10 11 12 13, highest: 5  6  7  8  9 \n",
       "--------------------------------------------------------------------------------\n",
       "score_shk \n",
       "       n  missing distinct     Info     Mean      Gmd      .05      .10 \n",
       "   50884        0    12935        1   0.4688   0.1411   0.2769   0.3142 \n",
       "     .25      .50      .75      .90      .95 \n",
       "  0.3785   0.4609   0.5519   0.6417   0.6906 \n",
       "\n",
       "lowest : 0.072468 0.074979 0.082379 0.096045 0.096884\n",
       "highest: 0.952748 0.957943 0.959415 0.964861 1.128291\n",
       "--------------------------------------------------------------------------------\n",
       "education \n",
       "       n  missing distinct \n",
       "   50884        0        5 \n",
       "                                        \n",
       "Value        ACD   GRD   PGR   SCH   UGR\n",
       "Frequency     32 21692   182 25987  2991\n",
       "Proportion 0.001 0.426 0.004 0.511 0.059\n",
       "--------------------------------------------------------------------------------\n",
       "living_region \n",
       "       n  missing distinct \n",
       "   50884        0       82 \n",
       "\n",
       "lowest : АЛТАЙСКИЙ КРАЙ             АМУРСКАЯ ОБЛАСТЬ           АРХАНГЕЛЬСКАЯ ОБЛАСТЬ      АСТРАХАНСКАЯ ОБЛАСТЬ       БЕЛГОРОДСКАЯ ОБЛАСТЬ      \n",
       "highest: ЧЕЧЕНСКАЯ РЕСПУБЛИКА       ЧИТИНСКАЯ ОБЛАСТЬ          ЧУВАШСКАЯ РЕСПУБЛИКА       ЧУКОТСКИЙ АВТОНОМНЫЙ ОКРУГ ЯРОСЛАВСКАЯ ОБЛАСТЬ       \n",
       "--------------------------------------------------------------------------------\n",
       "monthly_income \n",
       "       n  missing distinct     Info     Mean      Gmd      .05      .10 \n",
       "   50884        0      885    0.997    40147    22954    15000    20000 \n",
       "     .25      .50      .75      .90      .95 \n",
       "   25000    35000    50000    68000    80000 \n",
       "\n",
       "lowest :   5000   6000   6500   7000   7042, highest: 500000 600000 600001 750000 900000\n",
       "--------------------------------------------------------------------------------\n",
       "credit_count \n",
       "        n   missing  distinct      Info      Mean       Gmd       .05       .10 \n",
       "    50884         0        20     0.964  53592487 101442656     0e+00     0e+00 \n",
       "      .25       .50       .75       .90       .95 \n",
       "    1e+00     2e+00     3e+00     5e+00     1e+09 \n",
       "\n",
       "0 (7687, 0.151), 1 (13381, 0.263), 2 (11041, 0.217), 3 (7200, 0.141), 4 (4253,\n",
       "0.084), 5 (2269, 0.045), 6 (1155, 0.023), 7 (578, 0.011), 8 (301, 0.006), 9\n",
       "(153, 0.003), 10 (63, 0.001), 11 (34, 0.001), 12 (20, 0.000), 13 (8, 0.000), 14\n",
       "(4, 0.000), 15 (6, 0.000), 17 (2, 0.000), 18 (1, 0.000), 19 (1, 0.000),\n",
       "999999999 (2727, 0.054)\n",
       "--------------------------------------------------------------------------------\n",
       "overdue_credit_count \n",
       "        n   missing  distinct      Info      Mean       Gmd \n",
       "    50884         0         5     0.263  53592485 101442654 \n",
       "                                        \n",
       "Value      0e+00 1e+00 2e+00 3e+00 1e+09\n",
       "Frequency  45958  2187    11     1  2727\n",
       "Proportion 0.903 0.043 0.000 0.000 0.054\n",
       "--------------------------------------------------------------------------------\n",
       "open_account_flg \n",
       "       n  missing distinct     Info      Sum     Mean      Gmd \n",
       "   50884        0        2    0.442     9132   0.1795   0.2945 \n",
       "\n",
       "--------------------------------------------------------------------------------"
      ]
     },
     "metadata": {},
     "output_type": "display_data"
    }
   ],
   "source": [
    "# Загружаем пакет Hmisc и с помощью функции describe этого пакета \n",
    "# выводим подробную информацию о переменных\n",
    "library(Hmisc)\n",
    "\n",
    "describe(development)\n",
    "describe(holdout)\n",
    "\n",
    "detach(\"package:Hmisc\", unload=TRUE)"
   ]
  },
  {
   "cell_type": "markdown",
   "metadata": {},
   "source": [
    "Преобразуем типы данных"
   ]
  },
  {
   "cell_type": "code",
   "execution_count": 97,
   "metadata": {},
   "outputs": [
    {
     "name": "stdout",
     "output_type": "stream",
     "text": [
      "'data.frame':\t118711 obs. of  14 variables:\n",
      " $ gender              : Factor w/ 2 levels \"F\",\"M\": 2 1 1 2 1 2 2 1 2 1 ...\n",
      " $ age                 : num  48 28 27 45 37 34 23 32 26 26 ...\n",
      " $ marital_status      : chr  \"MAR\" \"MAR\" \"DIV\" \"MAR\" ...\n",
      " $ job_position        : chr  \"UMN\" \"UMN\" \"SPC\" \"SPC\" ...\n",
      " $ credit_sum          : num  59998 10889 12009 16909 26788 ...\n",
      " $ credit_month        : int  10 6 12 10 10 6 12 10 14 10 ...\n",
      " $ tariff_id           : chr  \"28\" \"2\" \"2\" \"2\" ...\n",
      " $ score_shk           : num  0.77 0.249 0.363 0.421 0.484 ...\n",
      " $ education           : Factor w/ 5 levels \"ACD\",\"GRD\",\"PGR\",..: 2 2 2 4 4 4 4 2 4 2 ...\n",
      " $ living_region       : chr  \"КРАСНОДАРСКИЙ КРАЙ\" \"МОСКВА\" \"ВОЛГОГРАДСКАЯ ОБЛАСТЬ\" \"ЧЕЛЯБИНСКАЯ ОБЛАСТЬ\" ...\n",
      " $ monthly_income      : num  30000 43000 17000 25000 30000 28000 50000 39500 36000 30000 ...\n",
      " $ credit_count        : Factor w/ 22 levels \"credit_count0\",..: 2 13 13 2 1 15 15 19 13 1 ...\n",
      " $ overdue_credit_count: Factor w/ 5 levels \"overdue_credit_count0\",..: 2 1 1 1 1 1 1 1 1 1 ...\n",
      " $ open_account_flg    : int  0 0 0 0 0 0 0 0 0 0 ...\n"
     ]
    }
   ],
   "source": [
    "development$gender <- as.factor(development$gender)\n",
    "development$education <- as.factor(development$education)\n",
    "# development$credit_count <- ordered(development$credit_count, \n",
    "#                          levels = c(min(development$credit_count) : max(development$credit_count)))\n",
    "# development$overdue_credit_count <- ordered(development$overdue_credit_count, \n",
    "#                          levels = c(min(development$overdue_credit_count) : max(development$overdue_credit_count)))\n",
    "development$credit_count <- as.factor(paste0(\"credit_count\", development$credit_count))\n",
    "development$overdue_credit_count <- as.factor(paste0(\"overdue_credit_count\",development$overdue_credit_count))\n",
    "str(development)"
   ]
  },
  {
   "cell_type": "code",
   "execution_count": 101,
   "metadata": {},
   "outputs": [
    {
     "name": "stdout",
     "output_type": "stream",
     "text": [
      "'data.frame':\t50884 obs. of  14 variables:\n",
      " $ gender              : Factor w/ 2 levels \"F\",\"M\": 2 1 2 1 2 1 2 1 2 1 ...\n",
      " $ age                 : int  32 26 43 54 40 26 44 64 28 32 ...\n",
      " $ marital_status      : chr  \"MAR\" \"UNM\" \"MAR\" \"UNM\" ...\n",
      " $ job_position        : chr  \"SPC\" \"SPC\" \"INP\" \"UMN\" ...\n",
      " $ credit_sum          : num  10728 47878 57567 24990 18890 ...\n",
      " $ credit_month        : int  12 10 10 12 6 10 18 10 10 10 ...\n",
      " $ tariff_id           : chr  \"2\" \"2\" \"2\" \"2\" ...\n",
      " $ score_shk           : num  0.46 0.513 0.341 0.414 0.299 ...\n",
      " $ education           : Factor w/ 5 levels \"ACD\",\"GRD\",\"PGR\",..: 4 2 2 2 2 2 4 4 4 2 ...\n",
      " $ living_region       : chr  \"САРАТОВСКАЯ ОБЛАСТЬ\" \"МОСКОВСКАЯ ОБЛАСТЬ\" \"ТЮМЕНСКАЯ ОБЛАСТЬ\" \"ТЮМЕНСКАЯ ОБЛАСТЬ\" ...\n",
      " $ monthly_income      : num  23000 60000 60000 40000 45000 30000 18400 29000 40000 30000 ...\n",
      " $ credit_count        : Factor w/ 20 levels \"credit_count0\",..: 15 13 17 16 15 14 13 13 2 12 ...\n",
      " $ overdue_credit_count: Factor w/ 5 levels \"overdue_credit_count0\",..: 1 1 1 1 1 1 1 1 1 1 ...\n",
      " $ open_account_flg    : int  0 0 0 1 1 0 0 0 0 0 ...\n"
     ]
    }
   ],
   "source": [
    "holdout$gender <- as.factor(holdout$gender)\n",
    "holdout$education <- as.factor(holdout$education)\n",
    "# holdout$credit_count <- ordered(holdout$credit_count, \n",
    "#                          levels = c(min(holdout$credit_count) : max(holdout$credit_count)))\n",
    "# holdout$overdue_credit_count <- ordered(holdout$overdue_credit_count, \n",
    "#                          levels = c(min(holdout$overdue_credit_count) : max(holdout$overdue_credit_count)))\n",
    "holdout$credit_count <- as.factor(paste0(\"credit_count\", holdout$credit_count))\n",
    "holdout$overdue_credit_count <- as.factor(paste0(\"overdue_credit_count\", holdout$overdue_credit_count))\n",
    "str(holdout)"
   ]
  },
  {
   "cell_type": "code",
   "execution_count": 102,
   "metadata": {},
   "outputs": [
    {
     "data": {
      "text/plain": [
       "   Min. 1st Qu.  Median    Mean 3rd Qu.    Max. \n",
       " 0.0000  0.0000  0.0000  0.1763  0.0000  1.0000 "
      ]
     },
     "metadata": {},
     "output_type": "display_data"
    },
    {
     "data": {
      "text/plain": [
       "   Min. 1st Qu.  Median    Mean 3rd Qu.    Max. \n",
       " 0.0000  0.0000  0.0000  0.1795  0.0000  1.0000 "
      ]
     },
     "metadata": {},
     "output_type": "display_data"
    }
   ],
   "source": [
    "# выводим информацию о распределении\n",
    "# классов зависимой переменной response\n",
    "# в обучающей выборке\n",
    "summary(development$open_account_flg)\n",
    "\n",
    "# выводим информацию о распределении\n",
    "# классов зависимой переменной response\n",
    "# в контрольной выборке\n",
    "summary(holdout$open_account_flg)"
   ]
  },
  {
   "cell_type": "markdown",
   "metadata": {},
   "source": [
    "Копируем данные"
   ]
  },
  {
   "cell_type": "code",
   "execution_count": 103,
   "metadata": {
    "collapsed": true
   },
   "outputs": [],
   "source": [
    "copy_dev <- development\n",
    "copy_hold <- holdout\n",
    "# Записываем в отдельные CSV файлы.\n",
    "write.csv(copy_dev, \"copy_dev.csv\")\n",
    "write.csv(copy_hold, \"copy_hold.csv\")"
   ]
  },
  {
   "cell_type": "markdown",
   "metadata": {},
   "source": [
    "### Обрабатываем признаки"
   ]
  },
  {
   "cell_type": "code",
   "execution_count": 1,
   "metadata": {
    "collapsed": true
   },
   "outputs": [],
   "source": [
    "# Контрольная точка - загружаем данные\n",
    "copy_dev <- read.csv(\"./copy_dev.csv\")\n",
    "copy_hold <- read.csv(\"./copy_hold.csv\")"
   ]
  },
  {
   "cell_type": "code",
   "execution_count": 2,
   "metadata": {},
   "outputs": [
    {
     "name": "stdout",
     "output_type": "stream",
     "text": [
      "'data.frame':\t118711 obs. of  14 variables:\n",
      " $ gender              : Factor w/ 2 levels \"F\",\"M\": 2 1 1 2 1 2 2 1 2 1 ...\n",
      " $ age                 : int  48 28 27 45 37 34 23 32 26 26 ...\n",
      " $ marital_status      : Factor w/ 5 levels \"CIV\",\"DIV\",\"MAR\",..: 3 3 2 3 3 3 3 4 3 4 ...\n",
      " $ job_position        : Factor w/ 18 levels \"ATP\",\"BIS\",\"BIU\",..: 15 15 14 14 14 14 14 14 14 14 ...\n",
      " $ credit_sum          : num  59998 10889 12009 16909 26788 ...\n",
      " $ credit_month        : int  10 6 12 10 10 6 12 10 14 10 ...\n",
      " $ tariff_id           : int  28 2 2 2 2 25 28 2 1 19 ...\n",
      " $ score_shk           : num  0.77 0.249 0.363 0.421 0.484 ...\n",
      " $ education           : Factor w/ 5 levels \"ACD\",\"GRD\",\"PGR\",..: 2 2 2 4 4 4 4 2 4 2 ...\n",
      " $ living_region       : Factor w/ 82 levels \"АЛТАЙСКИЙ КРАЙ\",..: 23 30 8 77 68 34 73 68 63 46 ...\n",
      " $ monthly_income      : num  30000 43000 17000 25000 30000 28000 50000 39500 36000 30000 ...\n",
      " $ credit_count        : Factor w/ 22 levels \"credit_count0\",..: 2 13 13 2 1 15 15 19 13 1 ...\n",
      " $ overdue_credit_count: Factor w/ 5 levels \"overdue_credit_count0\",..: 2 1 1 1 1 1 1 1 1 1 ...\n",
      " $ open_account_flg    : int  0 0 0 0 0 0 0 0 0 0 ...\n",
      "'data.frame':\t50884 obs. of  14 variables:\n",
      " $ gender              : Factor w/ 2 levels \"F\",\"M\": 2 1 2 1 2 1 2 1 2 1 ...\n",
      " $ age                 : int  32 26 43 54 40 26 44 64 28 32 ...\n",
      " $ marital_status      : Factor w/ 5 levels \"CIV\",\"DIV\",\"MAR\",..: 3 4 3 4 3 4 4 5 3 3 ...\n",
      " $ job_position        : Factor w/ 17 levels \"ATP\",\"BIS\",\"BIU\",..: 13 13 6 14 4 13 13 13 13 13 ...\n",
      " $ credit_sum          : num  10728 47878 57567 24990 18890 ...\n",
      " $ credit_month        : int  12 10 10 12 6 10 18 10 10 10 ...\n",
      " $ tariff_id           : int  2 2 2 2 25 2 2 2 28 20 ...\n",
      " $ score_shk           : num  0.46 0.513 0.341 0.414 0.299 ...\n",
      " $ education           : Factor w/ 5 levels \"ACD\",\"GRD\",\"PGR\",..: 4 2 2 2 2 2 4 4 4 2 ...\n",
      " $ living_region       : Factor w/ 82 levels \"АЛТАЙСКИЙ КРАЙ\",..: 64 31 73 73 17 74 60 59 57 34 ...\n",
      " $ monthly_income      : num  23000 60000 60000 40000 45000 30000 18400 29000 40000 30000 ...\n",
      " $ credit_count        : Factor w/ 20 levels \"credit_count0\",..: 15 13 17 16 15 14 13 13 2 12 ...\n",
      " $ overdue_credit_count: Factor w/ 5 levels \"overdue_credit_count0\",..: 1 1 1 1 1 1 1 1 1 1 ...\n",
      " $ open_account_flg    : int  0 0 0 1 1 0 0 0 0 0 ...\n"
     ]
    }
   ],
   "source": [
    "copy_dev$X <- NULL\n",
    "copy_hold$X <- NULL\n",
    "\n",
    "copy_dev$credit_count <- as.factor(copy_dev$credit_count)\n",
    "copy_dev$overdue_credit_count <- as.factor(copy_dev$overdue_credit_count)\n",
    "\n",
    "copy_hold$credit_count <- as.factor(copy_hold$credit_count)\n",
    "copy_hold$overdue_credit_count <- as.factor(copy_hold$overdue_credit_count)\n",
    "\n",
    "str(copy_dev)\n",
    "str(copy_hold)"
   ]
  },
  {
   "cell_type": "markdown",
   "metadata": {},
   "source": [
    "### living_region\n",
    "\n",
    "Здесь посложнее. 82 категории в дерево не влезут. Получим ошибку:\n",
    "Error in randomForest.default(m, y, ...) : Can not handle categorical predictors with more than 53 categories.\n",
    "\n",
    "Заменим категориальную переменную на количественную, используя сглаженное среднее значение целевой переменной по выборке для каждого значения категории. C помощью подбора округления сократим количество различных значений, а затем закодируем новую фичу как категорию.\n",
    "\n",
    "new_f = (mean(target)*nrows + global_mean*alpha) / (nrows + alpha)\n",
    "\n",
    "Где \n",
    "- mean(target) - среднее значение целевой переменной для данной категории\n",
    "- nrows - количество наблюдений для данной категории\n",
    "- global_mean - среднее значение целевой переменной по всей выборке\n",
    "- alpha - коэффициент регуляризации\n",
    "\n",
    "Если наблюдений для данной категории \"мало\", то получаем некое среднее значение таргета по выборке.\n",
    "Если наблюдений для данной категории \"много\", то получаем среднее значение таргета по данной категории в выборке.\n",
    "\n",
    "Коэффициент регуляризации подбирается при тюнинге модели."
   ]
  },
  {
   "cell_type": "code",
   "execution_count": 3,
   "metadata": {},
   "outputs": [
    {
     "name": "stdout",
     "output_type": "stream",
     "text": [
      "[1] \"Уникальных значений в тестовой выборке: 35\"\n",
      "[1] \"Уникальных значений в контрольной выборке: 35\"\n"
     ]
    }
   ],
   "source": [
    "alpha <- 2400 # 5% от выборки\n",
    "global_mean_dev <- 0.1763 # по тестовой выборке\n",
    "\n",
    "un_values <- unique(copy_dev$living_region, incomparables = FALSE)\n",
    "\n",
    "copy_dev$living_reg_SL <- rep(0, nrow(copy_dev))\n",
    "copy_hold$living_reg_SL <- rep(0, nrow(copy_hold))\n",
    "\n",
    "for (x in un_values){\n",
    "    cur_mean_target <- mean(copy_dev[copy_dev$living_region == x, ]$open_account_flg)\n",
    "    cur_nrows <- nrow(copy_dev[copy_dev$living_region == x, ])\n",
    "    cur_living_reg_SL <- round((cur_mean_target*cur_nrows + global_mean_dev*alpha) / (cur_nrows + alpha), 3) \n",
    "    copy_dev$living_reg_SL[copy_dev$living_region == x] <- rep(cur_living_reg_SL, cur_nrows)\n",
    "    \n",
    "    cur_nrows <- nrow(copy_hold[copy_hold$living_region == x, ])\n",
    "    copy_hold$living_reg_SL[copy_hold$living_region == x] <- rep(cur_living_reg_SL, cur_nrows)\n",
    "#     print(paste(x, cur_living_reg_SL))\n",
    "}\n",
    "print(paste(\"Уникальных значений в тестовой выборке:\", length(unique(copy_dev$living_reg_SL, incomparables = FALSE))))\n",
    "print(paste(\"Уникальных значений в контрольной выборке:\", length(unique(copy_hold$living_reg_SL, incomparables = FALSE))))"
   ]
  },
  {
   "cell_type": "code",
   "execution_count": 4,
   "metadata": {
    "collapsed": true
   },
   "outputs": [],
   "source": [
    "copy_dev$marital_status <- as.factor(copy_dev$marital_status)\n",
    "copy_hold$marital_status <- as.factor(copy_hold$marital_status)\n",
    "\n",
    "copy_dev$job_position <- as.factor(copy_dev$job_position)\n",
    "copy_hold$job_position <- as.factor(copy_hold$job_position)\n",
    "\n",
    "copy_dev$tariff_id <- as.factor(copy_dev$tariff_id)\n",
    "copy_hold$tariff_id <- as.factor(copy_hold$tariff_id)\n",
    "\n",
    "copy_dev$living_region <- copy_dev$living_reg_SL\n",
    "copy_dev$living_region <- as.factor(copy_dev$living_region)\n",
    "\n",
    "copy_hold$living_region <- copy_hold$living_reg_SL\n",
    "copy_hold$living_region <- as.factor(copy_hold$living_region)\n",
    "\n",
    "copy_dev$living_reg_SL <- NULL\n",
    "copy_hold$living_reg_SL <- NULL\n",
    "\n",
    "copy_dev$open_account_flg <- as.factor(paste0(\"open_account_flg_\", copy_dev$open_account_flg))\n",
    "copy_hold$open_account_flg <- as.factor(paste0(\"open_account_flg_\", copy_hold$open_account_flg))"
   ]
  },
  {
   "cell_type": "markdown",
   "metadata": {},
   "source": [
    "### Предотвращение ошибки Type of predictors in new data do not match that of the training data.\n",
    "\n",
    "https://stackoverflow.com/questions/24829674/r-random-forest-error-type-of-predictors-in-new-data-do-not-match"
   ]
  },
  {
   "cell_type": "code",
   "execution_count": 5,
   "metadata": {
    "collapsed": true
   },
   "outputs": [],
   "source": [
    "common <- intersect(names(copy_dev), names(copy_hold)) \n",
    "for (p in common) { \n",
    "  if (class(copy_dev[[p]]) == \"factor\") { \n",
    "    levels(copy_hold[[p]]) <- levels(copy_dev[[p]]) \n",
    "  } \n",
    "}"
   ]
  },
  {
   "cell_type": "code",
   "execution_count": 6,
   "metadata": {},
   "outputs": [
    {
     "name": "stdout",
     "output_type": "stream",
     "text": [
      "'data.frame':\t118711 obs. of  14 variables:\n",
      " $ gender              : Factor w/ 2 levels \"F\",\"M\": 2 1 1 2 1 2 2 1 2 1 ...\n",
      " $ age                 : int  48 28 27 45 37 34 23 32 26 26 ...\n",
      " $ marital_status      : Factor w/ 5 levels \"CIV\",\"DIV\",\"MAR\",..: 3 3 2 3 3 3 3 4 3 4 ...\n",
      " $ job_position        : Factor w/ 18 levels \"ATP\",\"BIS\",\"BIU\",..: 15 15 14 14 14 14 14 14 14 14 ...\n",
      " $ credit_sum          : num  59998 10889 12009 16909 26788 ...\n",
      " $ credit_month        : int  10 6 12 10 10 6 12 10 14 10 ...\n",
      " $ tariff_id           : Factor w/ 33 levels \"1\",\"2\",\"3\",\"4\",..: 28 2 2 2 2 25 28 2 1 19 ...\n",
      " $ score_shk           : num  0.77 0.249 0.363 0.421 0.484 ...\n",
      " $ education           : Factor w/ 5 levels \"ACD\",\"GRD\",\"PGR\",..: 2 2 2 4 4 4 4 2 4 2 ...\n",
      " $ living_region       : Factor w/ 35 levels \"0.133\",\"0.134\",..: 31 34 15 23 1 16 32 1 5 4 ...\n",
      " $ monthly_income      : num  30000 43000 17000 25000 30000 28000 50000 39500 36000 30000 ...\n",
      " $ credit_count        : Factor w/ 22 levels \"credit_count0\",..: 2 13 13 2 1 15 15 19 13 1 ...\n",
      " $ overdue_credit_count: Factor w/ 5 levels \"overdue_credit_count0\",..: 2 1 1 1 1 1 1 1 1 1 ...\n",
      " $ open_account_flg    : Factor w/ 2 levels \"open_account_flg_0\",..: 1 1 1 1 1 1 1 1 1 1 ...\n",
      "'data.frame':\t50884 obs. of  14 variables:\n",
      " $ gender              : Factor w/ 2 levels \"F\",\"M\": 2 1 2 1 2 1 2 1 2 1 ...\n",
      " $ age                 : int  32 26 43 54 40 26 44 64 28 32 ...\n",
      " $ marital_status      : Factor w/ 5 levels \"CIV\",\"DIV\",\"MAR\",..: 3 4 3 4 3 4 4 5 3 3 ...\n",
      " $ job_position        : Factor w/ 18 levels \"ATP\",\"BIS\",\"BIU\",..: 13 13 6 14 4 13 13 13 13 13 ...\n",
      " $ credit_sum          : num  10728 47878 57567 24990 18890 ...\n",
      " $ credit_month        : int  12 10 10 12 6 10 18 10 10 10 ...\n",
      " $ tariff_id           : Factor w/ 33 levels \"1\",\"2\",\"3\",\"4\",..: 2 2 2 2 24 2 2 2 26 19 ...\n",
      " $ score_shk           : num  0.46 0.513 0.341 0.414 0.299 ...\n",
      " $ education           : Factor w/ 5 levels \"ACD\",\"GRD\",\"PGR\",..: 4 2 2 2 2 2 4 4 4 2 ...\n",
      " $ living_region       : Factor w/ 35 levels \"0.133\",\"0.134\",..: 20 19 32 32 18 21 29 18 6 16 ...\n",
      " $ monthly_income      : num  23000 60000 60000 40000 45000 30000 18400 29000 40000 30000 ...\n",
      " $ credit_count        : Factor w/ 22 levels \"credit_count0\",..: 15 13 17 16 15 14 13 13 2 12 ...\n",
      " $ overdue_credit_count: Factor w/ 5 levels \"overdue_credit_count0\",..: 1 1 1 1 1 1 1 1 1 1 ...\n",
      " $ open_account_flg    : Factor w/ 2 levels \"open_account_flg_0\",..: 1 1 1 2 2 1 1 1 1 1 ...\n"
     ]
    }
   ],
   "source": [
    "str(copy_dev)\n",
    "str(copy_hold)"
   ]
  },
  {
   "cell_type": "markdown",
   "metadata": {},
   "source": [
    "### Построение модели и получение OOB оценки качества"
   ]
  },
  {
   "cell_type": "code",
   "execution_count": 7,
   "metadata": {},
   "outputs": [
    {
     "name": "stderr",
     "output_type": "stream",
     "text": [
      "randomForest 4.6-12\n",
      "Type rfNews() to see new features/changes/bug fixes.\n",
      "Loading required package: foreach\n",
      "Loading required package: iterators\n",
      "Loading required package: parallel\n"
     ]
    },
    {
     "name": "stdout",
     "output_type": "stream",
     "text": [
      "Time difference of 41.24927 secs\n"
     ]
    }
   ],
   "source": [
    "starttimer <- Sys.time()\n",
    "\n",
    "library(randomForest)\n",
    "library(doParallel)\n",
    "CPUS=20; NTREE=500\n",
    "cl = makeCluster(CPUS)\n",
    "registerDoParallel(cl)\n",
    "\n",
    "set.seed(152)\n",
    "rf1 <- foreach(ntree=rep(NTREE/CPUS, CPUS), .combine=combine, .multicombine=TRUE, \n",
    "                   .packages='randomForest') %dopar% {\n",
    "  randomForest(open_account_flg~., data=copy_dev, importance=TRUE, ntree=ntree)\n",
    "}\n",
    "stopCluster(cl)\n",
    "\n",
    "# model <- combine(rf.list)\n",
    "\n",
    "endtimer <- Sys.time()\n",
    "print(endtimer - starttimer)"
   ]
  },
  {
   "cell_type": "code",
   "execution_count": null,
   "metadata": {
    "collapsed": true
   },
   "outputs": [],
   "source": [
    "# starttimer <- Sys.time()\n",
    "# library(randomForest)\n",
    "# model = randomForest(open_account_flg~., data=copy_dev, importance=TRUE)\n",
    "# endtimer <- Sys.time()\n",
    "# print(endtimer - starttimer)"
   ]
  },
  {
   "cell_type": "code",
   "execution_count": 8,
   "metadata": {},
   "outputs": [
    {
     "data": {
      "text/plain": [
       "                    \n",
       "                     open_account_flg_0 open_account_flg_1\n",
       "  open_account_flg_0              97681                106\n",
       "  open_account_flg_1              20792                132"
      ]
     },
     "metadata": {},
     "output_type": "display_data"
    },
    {
     "name": "stdout",
     "output_type": "stream",
     "text": [
      "\n",
      "Call:\n",
      " randomForest(formula = open_account_flg ~ ., data = copy_dev,      importance = TRUE, ntree = ntree) \n",
      "               Type of random forest: classification\n",
      "                     Number of trees: 500\n",
      "No. of variables tried at each split: 3\n",
      "\n"
     ]
    }
   ],
   "source": [
    "table(copy_dev$open_account_flg, predict(rf1))\n",
    "print(rf1)"
   ]
  },
  {
   "cell_type": "code",
   "execution_count": 9,
   "metadata": {},
   "outputs": [
    {
     "name": "stderr",
     "output_type": "stream",
     "text": [
      "Type 'citation(\"pROC\")' for a citation.\n",
      "\n",
      "Attaching package: 'pROC'\n",
      "\n",
      "The following objects are masked from 'package:stats':\n",
      "\n",
      "    cov, smooth, var\n",
      "\n"
     ]
    },
    {
     "data": {
      "text/plain": [
       "\n",
       "Call:\n",
       "roc.default(response = copy_dev$open_account_flg, predictor = prob[,     2], ci = TRUE)\n",
       "\n",
       "Data: prob[, 2] in 97787 controls (copy_dev$open_account_flg open_account_flg_0) < 20924 cases (copy_dev$open_account_flg open_account_flg_1).\n",
       "Area under the curve: 0.674\n",
       "95% CI: 0.6701-0.6779 (DeLong)"
      ]
     },
     "metadata": {},
     "output_type": "display_data"
    },
    {
     "data": {
      "text/plain": [
       "\n",
       "Call:\n",
       "roc.default(response = copy_hold$open_account_flg, predictor = prob2[,     2], ci = TRUE)\n",
       "\n",
       "Data: prob2[, 2] in 41752 controls (copy_hold$open_account_flg open_account_flg_0) < 9132 cases (copy_hold$open_account_flg open_account_flg_1).\n",
       "Area under the curve: 0.5916\n",
       "95% CI: 0.5852-0.598 (DeLong)"
      ]
     },
     "metadata": {},
     "output_type": "display_data"
    },
    {
     "data": {
      "image/png": "[encoded data removed]",
      "text/plain": [
       "plot without title"
      ]
     },
     "metadata": {},
     "output_type": "display_data"
    }
   ],
   "source": [
    "# Загружаем пакет для построения ROC-кривых.\n",
    "library(pROC)\n",
    "\n",
    "# Вычисление вероятностей классов\n",
    "\n",
    "prob <- predict(rf1, type=\"prob\")\n",
    "prob2 <- predict(rf1, copy_hold, type=\"prob\")\n",
    "\n",
    "roc(copy_dev$open_account_flg, prob[,2], ci=TRUE)\n",
    "roc(copy_hold$open_account_flg, prob2[,2], ci=TRUE)\n",
    "\n",
    "# Строим ROC-кривые.\n",
    "roc_dev<-plot(roc(copy_dev$open_account_flg, prob[,2], ci=TRUE), percent=TRUE, \n",
    "              print.auc=TRUE, col=\"#1c61b6\")\n",
    "roc_hold<-plot(roc(copy_hold$open_account_flg, prob2[,2], ci=TRUE), percent=TRUE, \n",
    "               print.auc=TRUE, col=\"#008600\", print.auc.y= .4, add=TRUE)\n",
    "\n",
    "# Создаем легенды к ROC-кривым.\n",
    "legend(\"bottomright\", legend=c(\"Обучающая выборка\", \"Контрольная выборка\"), \n",
    "       col=c(\"#1c61b6\", \"#008600\"), lwd=2)"
   ]
  },
  {
   "cell_type": "markdown",
   "metadata": {},
   "source": [
    "## Тюнинг модели"
   ]
  },
  {
   "cell_type": "code",
   "execution_count": 48,
   "metadata": {
    "scrolled": true
   },
   "outputs": [
    {
     "name": "stdout",
     "output_type": "stream",
     "text": [
      "0.0001434926 0.05 \n",
      "-0.003156837 0.05 \n"
     ]
    },
    {
     "data": {
      "text/html": [
       "<table>\n",
       "<thead><tr><th></th><th scope=col>mtry</th><th scope=col>OOBError</th></tr></thead>\n",
       "<tbody>\n",
       "\t<tr><th scope=row>2.OOB</th><td>2        </td><td>0.1760915</td></tr>\n",
       "\t<tr><th scope=row>3.OOB</th><td>3        </td><td>0.1761168</td></tr>\n",
       "\t<tr><th scope=row>6.OOB</th><td>6        </td><td>0.1766728</td></tr>\n",
       "</tbody>\n",
       "</table>\n"
      ],
      "text/latex": [
       "\\begin{tabular}{r|ll}\n",
       "  & mtry & OOBError\\\\\n",
       "\\hline\n",
       "\t2.OOB & 2         & 0.1760915\\\\\n",
       "\t3.OOB & 3         & 0.1761168\\\\\n",
       "\t6.OOB & 6         & 0.1766728\\\\\n",
       "\\end{tabular}\n"
      ],
      "text/markdown": [
       "\n",
       "| <!--/--> | mtry | OOBError | \n",
       "|---|---|---|\n",
       "| 2.OOB | 2         | 0.1760915 | \n",
       "| 3.OOB | 3         | 0.1761168 | \n",
       "| 6.OOB | 6         | 0.1766728 | \n",
       "\n",
       "\n"
      ],
      "text/plain": [
       "      mtry OOBError \n",
       "2.OOB 2    0.1760915\n",
       "3.OOB 3    0.1761168\n",
       "6.OOB 6    0.1766728"
      ]
     },
     "metadata": {},
     "output_type": "display_data"
    },
    {
     "data": {
      "image/png": "[encoded data removed]",
      "text/plain": [
       "plot without title"
      ]
     },
     "metadata": {},
     "output_type": "display_data"
    }
   ],
   "source": [
    "set.seed(152)\n",
    "tuneRF(copy_dev[,1:13], copy_dev[,14], ntreeTry=500, trace=FALSE)"
   ]
  },
  {
   "cell_type": "code",
   "execution_count": 10,
   "metadata": {
    "scrolled": true
   },
   "outputs": [
    {
     "name": "stderr",
     "output_type": "stream",
     "text": [
      "Type 'citation(\"pROC\")' for a citation.\n",
      "\n",
      "Attaching package: 'pROC'\n",
      "\n",
      "The following objects are masked from 'package:stats':\n",
      "\n",
      "    cov, smooth, var\n",
      "\n"
     ]
    },
    {
     "data": {
      "image/png": "[encoded data removed]",
      "text/plain": [
       "plot without title"
      ]
     },
     "metadata": {},
     "output_type": "display_data"
    }
   ],
   "source": [
    "library(caret)\n",
    "# Попробуем downsample\n",
    "balanced_dev_down <- downSample(copy_dev[, c(1:13)], copy_dev[,\"open_account_flg\"], list=FALSE, \"open_account_flg\")\n",
    "library(randomForest)\n",
    "library(doParallel)\n",
    "CPUS=20; NTREE=500\n",
    "cl = makeCluster(CPUS)\n",
    "registerDoParallel(cl)\n",
    "\n",
    "set.seed(152)\n",
    "rf2 <- foreach(ntree=rep(NTREE/CPUS, CPUS), .combine=combine, .multicombine=TRUE, \n",
    "                   .packages='randomForest') %dopar% {\n",
    "  randomForest(open_account_flg~., data=balanced_dev_down, importance=FALSE, ntree=ntree, mtry=2)\n",
    "}\n",
    "stopCluster(cl)\n",
    "\n",
    "# Вычисление вероятностей классов\n",
    "library(pROC)\n",
    "prob <- predict(rf2, type=\"prob\")\n",
    "prob2 <- predict(rf2, copy_hold, type=\"prob\")\n",
    "\n",
    "# Строим ROC-кривые.\n",
    "roc_dev<-plot(roc(balanced_dev_down$open_account_flg, prob[,2], ci=TRUE), percent=TRUE, \n",
    "              print.auc=TRUE, col=\"#1c61b6\")\n",
    "roc_hold<-plot(roc(copy_hold$open_account_flg, prob2[,2], ci=TRUE), percent=TRUE, \n",
    "               print.auc=TRUE, col=\"#008600\", print.auc.y= .4, add=TRUE)\n",
    "\n",
    "# Создаем легенды к ROC-кривым.\n",
    "legend(\"bottomright\", legend=c(\"Обучающая выборка\", \"Контрольная выборка\"), \n",
    "       col=c(\"#1c61b6\", \"#008600\"), lwd=2)"
   ]
  },
  {
   "cell_type": "code",
   "execution_count": 11,
   "metadata": {
    "scrolled": true
   },
   "outputs": [
    {
     "data": {
      "image/png": "[encoded data removed]",
      "text/plain": [
       "plot without title"
      ]
     },
     "metadata": {},
     "output_type": "display_data"
    }
   ],
   "source": [
    "# Попробуем upsample\n",
    "library(caret)\n",
    "balanced_dev_up <- upSample(copy_dev[, c(1:13)], copy_dev[,\"open_account_flg\"], list=FALSE, \"open_account_flg\")\n",
    "library(randomForest)\n",
    "library(doParallel)\n",
    "CPUS=20; NTREE=500\n",
    "cl = makeCluster(CPUS)\n",
    "registerDoParallel(cl)\n",
    "\n",
    "set.seed(152)\n",
    "rf3 <- foreach(ntree=rep(NTREE/CPUS, CPUS), .combine=combine, .multicombine=TRUE, \n",
    "                   .packages='randomForest') %dopar% {\n",
    "  randomForest(open_account_flg~., data=balanced_dev_up, importance=FALSE, ntree=ntree, mtry=2)\n",
    "}\n",
    "stopCluster(cl)\n",
    "\n",
    "# Вычисление вероятностей классов\n",
    "library(pROC)\n",
    "prob <- predict(rf3, type=\"prob\")\n",
    "prob2 <- predict(rf3, copy_hold, type=\"prob\")\n",
    "\n",
    "# Строим ROC-кривые.\n",
    "roc_dev<-plot(roc(balanced_dev_up$open_account_flg, prob[,2], ci=TRUE), percent=TRUE, \n",
    "              print.auc=TRUE, col=\"#1c61b6\")\n",
    "roc_hold<-plot(roc(copy_hold$open_account_flg, prob2[,2], ci=TRUE), percent=TRUE, \n",
    "               print.auc=TRUE, col=\"#008600\", print.auc.y= .4, add=TRUE)\n",
    "\n",
    "# Создаем легенды к ROC-кривым.\n",
    "legend(\"bottomright\", legend=c(\"Обучающая выборка\", \"Контрольная выборка\"), \n",
    "       col=c(\"#1c61b6\", \"#008600\"), lwd=2)"
   ]
  },
  {
   "cell_type": "code",
   "execution_count": 33,
   "metadata": {},
   "outputs": [
    {
     "data": {
      "image/png": "[encoded data removed]",
      "text/plain": [
       "plot without title"
      ]
     },
     "metadata": {},
     "output_type": "display_data"
    }
   ],
   "source": [
    "# Попробуем уровнять баланс классов при обучении за счет весов классов и увеличим количество деревьев\n",
    "library(randomForest)\n",
    "library(doParallel)\n",
    "CPUS=20; NTREE=800\n",
    "cl = makeCluster(CPUS)\n",
    "registerDoParallel(cl)\n",
    "\n",
    "set.seed(152)\n",
    "rf4 <- foreach(ntree=rep(NTREE/CPUS, CPUS), .combine=combine, .multicombine=TRUE, \n",
    "                   .packages='randomForest') %dopar% {\n",
    "  randomForest(open_account_flg~., data=copy_dev, importance=FALSE, ntree=ntree, mtry=2, \n",
    "               classwt=c(0.60, 0.4))\n",
    "}\n",
    "stopCluster(cl)\n",
    "\n",
    "# Вычисление вероятностей классов\n",
    "prob <- predict(rf4, type=\"prob\")\n",
    "prob2 <- predict(rf4, copy_hold, type=\"prob\")\n",
    "\n",
    "# Строим ROC-кривые.\n",
    "library(pROC)\n",
    "roc_dev<-plot(roc(copy_dev$open_account_flg, prob[,2], ci=TRUE), percent=TRUE, \n",
    "              print.auc=TRUE, col=\"#1c61b6\")\n",
    "roc_hold<-plot(roc(copy_hold$open_account_flg, prob2[,2], ci=TRUE), percent=TRUE, \n",
    "               print.auc=TRUE, col=\"#008600\", print.auc.y= .4, add=TRUE)\n",
    "\n",
    "# Создаем легенды к ROC-кривым.\n",
    "legend(\"bottomright\", legend=c(\"Обучающая выборка\", \"Контрольная выборка\"), \n",
    "       col=c(\"#1c61b6\", \"#008600\"), lwd=2)"
   ]
  },
  {
   "cell_type": "markdown",
   "metadata": {},
   "source": [
    "### Попробуем генерацию признаков "
   ]
  },
  {
   "cell_type": "markdown",
   "metadata": {},
   "source": [
    "age"
   ]
  },
  {
   "cell_type": "code",
   "execution_count": 34,
   "metadata": {},
   "outputs": [
    {
     "name": "stdout",
     "output_type": "stream",
     "text": [
      "[18,25] (25,28] (28,31] (31,34] (34,38] (38,43] (43,50] (50,71] \n",
      "  16466   14788   15080   13196   14863   16001   14190   14127 \n",
      "[18,25] (25,28] (28,31] (31,35] (35,38] (38,43] (43,50] (50,71] \n",
      "   6768    6548    6383    7485    4680    6841    6138    6041 \n"
     ]
    }
   ],
   "source": [
    "copy_dev2 <- copy_dev\n",
    "copy_hold2 <- copy_hold\n",
    "\n",
    "# с помощью функции quantileCut пакета lsr разбиваем переменную age на 8 интервалов c одинаковым количеством наблюдений\n",
    "library(lsr)\n",
    "copy_dev2$binned <- quantileCut(x=copy_dev2$age, n=8, \n",
    "                                   include.lowest=TRUE, right=TRUE, \n",
    "                                   ordered_result=TRUE, dig.lab=0)\n",
    "\n",
    "copy_hold2$binned <- quantileCut(x=copy_hold2$age, n=8, \n",
    "                                   include.lowest=TRUE, right=TRUE, \n",
    "                                   ordered_result=TRUE, dig.lab=0)\n",
    "\n",
    "# смотрим распределение значений\n",
    "# переменной binned\n",
    "print(summary(copy_dev2$binned))\n",
    "print(summary(copy_hold2$binned))"
   ]
  },
  {
   "cell_type": "code",
   "execution_count": 35,
   "metadata": {},
   "outputs": [
    {
     "data": {
      "image/png": "[encoded data removed]",
      "text/plain": [
       "plot without title"
      ]
     },
     "metadata": {},
     "output_type": "display_data"
    }
   ],
   "source": [
    "# удаляем служебную колонку\n",
    "copy_dev2$binned <- NULL\n",
    "copy_hold2$binned <- NULL\n",
    "\n",
    "# выполняем биннинг с учетом полученных правил разбиения\n",
    "copy_dev2$age <- cut(x=copy_dev2$age, \n",
    "                        breaks=c(18, 25, 28, 31, 34, 38, 43, 50, +Inf), \n",
    "                        include.lowest=TRUE, \n",
    "                        ordered_result=TRUE)\n",
    "\n",
    "copy_hold2$age <- cut(x=copy_hold2$age, \n",
    "                        breaks=c(18, 25, 28, 31, 34, 38, 43, 50, +Inf), \n",
    "                        include.lowest=TRUE, \n",
    "                        ordered_result=TRUE)\n",
    "\n",
    "library(randomForest)\n",
    "library(doParallel)\n",
    "CPUS=20; NTREE=800\n",
    "cl = makeCluster(CPUS)\n",
    "registerDoParallel(cl)\n",
    "\n",
    "set.seed(152)\n",
    "rf1 <- foreach(ntree=rep(NTREE/CPUS, CPUS), .combine=combine, .multicombine=TRUE, \n",
    "                   .packages='randomForest') %dopar% {\n",
    "  randomForest(open_account_flg~., data=copy_dev2, importance=FALSE, ntree=ntree, mtry=2, \n",
    "               classwt=c(0.60, 0.4))\n",
    "}\n",
    "stopCluster(cl)\n",
    "\n",
    "# Вычисление вероятностей классов\n",
    "prob <- predict(rf1, type=\"prob\")\n",
    "prob2 <- predict(rf1, copy_hold2, type=\"prob\")\n",
    "\n",
    "# Строим ROC-кривые.\n",
    "library(pROC)\n",
    "roc_dev<-plot(roc(copy_dev2$open_account_flg, prob[,2], ci=TRUE), percent=TRUE, \n",
    "              print.auc=TRUE, col=\"#1c61b6\")\n",
    "roc_hold<-plot(roc(copy_hold2$open_account_flg, prob2[,2], ci=TRUE), percent=TRUE, \n",
    "               print.auc=TRUE, col=\"#008600\", print.auc.y= .4, add=TRUE)\n",
    "\n",
    "# Создаем легенды к ROC-кривым.\n",
    "legend(\"bottomright\", legend=c(\"Обучающая выборка\", \"Контрольная выборка\"), \n",
    "       col=c(\"#1c61b6\", \"#008600\"), lwd=2)"
   ]
  },
  {
   "cell_type": "markdown",
   "metadata": {},
   "source": [
    "credit_sum"
   ]
  },
  {
   "cell_type": "code",
   "execution_count": 36,
   "metadata": {},
   "outputs": [
    {
     "name": "stdout",
     "output_type": "stream",
     "text": [
      "[2.8e+03,1.1e+04] (1.1e+04,1.4e+04] (1.4e+04,1.6e+04] (1.6e+04,1.8e+04] \n",
      "            11880             11866             11868             11871 \n",
      "(1.8e+04,2.1e+04] (2.1e+04,2.5e+04] (2.5e+04,2.9e+04] (2.9e+04,3.8e+04] \n",
      "            11881             11881             11852             11870 \n",
      "(3.8e+04,5.1e+04]   (5.1e+04,2e+05] \n",
      "            11879             11863 \n",
      "[2.5e+03,1.1e+04] (1.1e+04,1.4e+04] (1.4e+04,1.6e+04] (1.6e+04,1.8e+04] \n",
      "             5113              5064              5091              5090 \n",
      "(1.8e+04,2.1e+04] (2.1e+04,2.5e+04] (2.5e+04,2.9e+04] (2.9e+04,3.7e+04] \n",
      "             5088              5084              5090              5087 \n",
      "(3.7e+04,5.1e+04]   (5.1e+04,2e+05] \n",
      "             5088              5089 \n"
     ]
    }
   ],
   "source": [
    "copy_dev2$binned <- quantileCut(x=copy_dev2$credit_sum, n=10, \n",
    "                                   include.lowest=TRUE, right=TRUE, \n",
    "                                   ordered_result=TRUE, dig.lab=0)\n",
    "\n",
    "copy_hold2$binned <- quantileCut(x=copy_hold2$credit_sum, n=10, \n",
    "                                   include.lowest=TRUE, right=TRUE, \n",
    "                                   ordered_result=TRUE, dig.lab=0)\n",
    "\n",
    "# смотрим распределение значений\n",
    "# переменной binned\n",
    "print(summary(copy_dev2$binned))\n",
    "print(summary(copy_hold2$binned))"
   ]
  },
  {
   "cell_type": "code",
   "execution_count": 37,
   "metadata": {},
   "outputs": [
    {
     "data": {
      "image/png": "[encoded data removed]",
      "text/plain": [
       "plot without title"
      ]
     },
     "metadata": {},
     "output_type": "display_data"
    }
   ],
   "source": [
    "# удаляем служебную колонку\n",
    "copy_dev2$binned <- NULL\n",
    "copy_hold2$binned <- NULL\n",
    "\n",
    "# выполняем биннинг с учетом полученных правил разбиения\n",
    "copy_dev2$credit_sum <- cut(x=copy_dev2$credit_sum, \n",
    "                        breaks=c(-Inf, 11000, 14000, 16000, 18000, 21000, 25000, 29000, 38000, 50000, +Inf), \n",
    "                        include.lowest=TRUE, \n",
    "                        ordered_result=TRUE)\n",
    "\n",
    "copy_hold2$credit_sum <- cut(x=copy_hold2$credit_sum, \n",
    "                        breaks=c(-Inf, 11000, 14000, 16000, 18000, 21000, 25000, 29000, 38000, 50000, +Inf), \n",
    "                        include.lowest=TRUE, \n",
    "                        ordered_result=TRUE)\n",
    "\n",
    "library(randomForest)\n",
    "library(doParallel)\n",
    "CPUS=20; NTREE=800\n",
    "cl = makeCluster(CPUS)\n",
    "registerDoParallel(cl)\n",
    "\n",
    "set.seed(152)\n",
    "rf1 <- foreach(ntree=rep(NTREE/CPUS, CPUS), .combine=combine, .multicombine=TRUE, \n",
    "                   .packages='randomForest') %dopar% {\n",
    "  randomForest(open_account_flg~., data=copy_dev2, importance=FALSE, ntree=ntree, mtry=2, \n",
    "               classwt=c(0.60, 0.4))\n",
    "}\n",
    "stopCluster(cl)\n",
    "\n",
    "# Вычисление вероятностей классов\n",
    "prob <- predict(rf1, type=\"prob\")\n",
    "prob2 <- predict(rf1, copy_hold2, type=\"prob\")\n",
    "\n",
    "# Строим ROC-кривые.\n",
    "library(pROC)\n",
    "roc_dev<-plot(roc(copy_dev2$open_account_flg, prob[,2], ci=TRUE), percent=TRUE, \n",
    "              print.auc=TRUE, col=\"#1c61b6\")\n",
    "roc_hold<-plot(roc(copy_hold2$open_account_flg, prob2[,2], ci=TRUE), percent=TRUE, \n",
    "               print.auc=TRUE, col=\"#008600\", print.auc.y= .4, add=TRUE)\n",
    "\n",
    "# Создаем легенды к ROC-кривым.\n",
    "legend(\"bottomright\", legend=c(\"Обучающая выборка\", \"Контрольная выборка\"), \n",
    "       col=c(\"#1c61b6\", \"#008600\"), lwd=2)"
   ]
  },
  {
   "cell_type": "markdown",
   "metadata": {},
   "source": [
    "monthly_income "
   ]
  },
  {
   "cell_type": "code",
   "execution_count": 39,
   "metadata": {},
   "outputs": [
    {
     "name": "stdout",
     "output_type": "stream",
     "text": [
      "  [4.1e+03,2e+04]   (2e+04,2.5e+04]   (2.5e+04,3e+04]   (3e+04,3.9e+04] \n",
      "            18836             15567             17835             15937 \n",
      "(3.9e+04,4.5e+04]   (4.5e+04,6e+04]   (6e+04,9.5e+05] \n",
      "            17329             19167             14040 \n",
      "  [4.1e+03,2e+04]   (2e+04,2.5e+04]   (2.5e+04,3e+04]   (3e+04,3.8e+04] \n",
      "             8160              6520              7732              6699 \n",
      "(3.8e+04,4.5e+04]   (4.5e+04,6e+04]     (6e+04,9e+05] \n",
      "             7584              8099              6090 \n"
     ]
    }
   ],
   "source": [
    "copy_dev2 <- copy_dev\n",
    "copy_hold2 <- copy_hold\n",
    "\n",
    "copy_dev2$binned <- quantileCut(x=copy_dev2$monthly_income, n=7, \n",
    "                                   include.lowest=TRUE, right=TRUE, \n",
    "                                   ordered_result=TRUE, dig.lab=0)\n",
    "\n",
    "copy_hold2$binned <- quantileCut(x=copy_hold2$monthly_income, n=7, \n",
    "                                   include.lowest=TRUE, right=TRUE, \n",
    "                                   ordered_result=TRUE, dig.lab=0)\n",
    "\n",
    "# смотрим распределение значений\n",
    "# переменной binned\n",
    "print(summary(copy_dev2$binned))\n",
    "print(summary(copy_hold2$binned))"
   ]
  },
  {
   "cell_type": "code",
   "execution_count": 40,
   "metadata": {},
   "outputs": [
    {
     "data": {
      "image/png": "[encoded data removed]",
      "text/plain": [
       "plot without title"
      ]
     },
     "metadata": {},
     "output_type": "display_data"
    }
   ],
   "source": [
    "# удаляем служебную колонку\n",
    "copy_dev2$binned <- NULL\n",
    "copy_hold2$binned <- NULL\n",
    "\n",
    "# выполняем биннинг с учетом полученных правил разбиения\n",
    "copy_dev2$monthly_income <- cut(x=copy_dev2$monthly_income, \n",
    "                        breaks=c(-Inf, 20000, 25000, 30000, 39000, 45000, 60000, +Inf), \n",
    "                        include.lowest=TRUE, \n",
    "                        ordered_result=TRUE)\n",
    "\n",
    "copy_hold2$monthly_income <- cut(x=copy_hold2$monthly_income, \n",
    "                        breaks=c(-Inf, 20000, 25000, 30000, 39000, 45000, 60000, +Inf), \n",
    "                        include.lowest=TRUE, \n",
    "                        ordered_result=TRUE)\n",
    "library(randomForest)\n",
    "library(doParallel)\n",
    "CPUS=20; NTREE=800\n",
    "cl = makeCluster(CPUS)\n",
    "registerDoParallel(cl)\n",
    "\n",
    "set.seed(152)\n",
    "rf1 <- foreach(ntree=rep(NTREE/CPUS, CPUS), .combine=combine, .multicombine=TRUE, \n",
    "                   .packages='randomForest') %dopar% {\n",
    "  randomForest(open_account_flg~., data=copy_dev2, importance=FALSE, ntree=ntree, mtry=2, \n",
    "               classwt=c(0.60, 0.4))\n",
    "}\n",
    "stopCluster(cl)\n",
    "\n",
    "# Вычисление вероятностей классов\n",
    "prob <- predict(rf1, type=\"prob\")\n",
    "prob2 <- predict(rf1, copy_hold2, type=\"prob\")\n",
    "\n",
    "# Строим ROC-кривые.\n",
    "library(pROC)\n",
    "roc_dev<-plot(roc(copy_dev2$open_account_flg, prob[,2], ci=TRUE), percent=TRUE, \n",
    "              print.auc=TRUE, col=\"#1c61b6\")\n",
    "roc_hold<-plot(roc(copy_hold2$open_account_flg, prob2[,2], ci=TRUE), percent=TRUE, \n",
    "               print.auc=TRUE, col=\"#008600\", print.auc.y= .4, add=TRUE)\n",
    "\n",
    "# Создаем легенды к ROC-кривым.\n",
    "legend(\"bottomright\", legend=c(\"Обучающая выборка\", \"Контрольная выборка\"), \n",
    "       col=c(\"#1c61b6\", \"#008600\"), lwd=2)"
   ]
  },
  {
   "cell_type": "markdown",
   "metadata": {},
   "source": [
    "credit_month"
   ]
  },
  {
   "cell_type": "code",
   "execution_count": 41,
   "metadata": {},
   "outputs": [
    {
     "name": "stdout",
     "output_type": "stream",
     "text": [
      " [3,10] (10,12] (12,36] \n",
      "  77087   31909    9715 \n",
      " [3,10] (10,12] (12,36] \n",
      "  33106   13712    4066 \n"
     ]
    }
   ],
   "source": [
    "copy_dev2 <- copy_dev\n",
    "copy_hold2 <- copy_hold\n",
    "\n",
    "copy_dev2$binned <- quantileCut(x=copy_dev2$credit_month, n=3, \n",
    "                                   include.lowest=TRUE, right=TRUE, \n",
    "                                   ordered_result=TRUE, dig.lab=0)\n",
    "\n",
    "copy_hold2$binned <- quantileCut(x=copy_hold2$credit_month, n=3, \n",
    "                                   include.lowest=TRUE, right=TRUE, \n",
    "                                   ordered_result=TRUE, dig.lab=0)\n",
    "\n",
    "# смотрим распределение значений\n",
    "# переменной binned\n",
    "print(summary(copy_dev2$binned))\n",
    "print(summary(copy_hold2$binned))"
   ]
  },
  {
   "cell_type": "code",
   "execution_count": 42,
   "metadata": {},
   "outputs": [
    {
     "data": {
      "image/png": "[encoded data removed]",
      "text/plain": [
       "plot without title"
      ]
     },
     "metadata": {},
     "output_type": "display_data"
    }
   ],
   "source": [
    "# удаляем служебную колонку\n",
    "copy_dev2$binned <- NULL\n",
    "copy_hold2$binned <- NULL\n",
    "\n",
    "# выполняем биннинг с учетом полученных правил разбиения\n",
    "copy_dev2$credit_month <- cut(x=copy_dev2$credit_month, \n",
    "                        breaks=c(0, 10, 12, +Inf), \n",
    "                        include.lowest=TRUE, \n",
    "                        ordered_result=TRUE)\n",
    "\n",
    "copy_hold2$credit_month <- cut(x=copy_hold2$credit_month, \n",
    "                        breaks=c(0, 10, 12, +Inf), \n",
    "                        include.lowest=TRUE, \n",
    "                        ordered_result=TRUE)\n",
    "\n",
    "library(randomForest)\n",
    "library(doParallel)\n",
    "CPUS=20; NTREE=800\n",
    "cl = makeCluster(CPUS)\n",
    "registerDoParallel(cl)\n",
    "\n",
    "set.seed(152)\n",
    "rf1 <- foreach(ntree=rep(NTREE/CPUS, CPUS), .combine=combine, .multicombine=TRUE, \n",
    "                   .packages='randomForest') %dopar% {\n",
    "  randomForest(open_account_flg~., data=copy_dev2, importance=FALSE, ntree=ntree, mtry=2, \n",
    "               classwt=c(0.60, 0.4))\n",
    "}\n",
    "stopCluster(cl)\n",
    "\n",
    "# Вычисление вероятностей классов\n",
    "prob <- predict(rf1, type=\"prob\")\n",
    "prob2 <- predict(rf1, copy_hold2, type=\"prob\")\n",
    "\n",
    "# Строим ROC-кривые.\n",
    "library(pROC)\n",
    "roc_dev<-plot(roc(copy_dev2$open_account_flg, prob[,2], ci=TRUE), percent=TRUE, \n",
    "              print.auc=TRUE, col=\"#1c61b6\")\n",
    "roc_hold<-plot(roc(copy_hold2$open_account_flg, prob2[,2], ci=TRUE), percent=TRUE, \n",
    "               print.auc=TRUE, col=\"#008600\", print.auc.y= .4, add=TRUE)\n",
    "\n",
    "# Создаем легенды к ROC-кривым.\n",
    "legend(\"bottomright\", legend=c(\"Обучающая выборка\", \"Контрольная выборка\"), \n",
    "       col=c(\"#1c61b6\", \"#008600\"), lwd=2)"
   ]
  },
  {
   "cell_type": "markdown",
   "metadata": {},
   "source": [
    "tariff_id"
   ]
  },
  {
   "cell_type": "code",
   "execution_count": 43,
   "metadata": {},
   "outputs": [
    {
     "name": "stdout",
     "output_type": "stream",
     "text": [
      "[1] \"28 : 27253\"\n",
      "[1] \"2 : 48218\"\n",
      "[1] \"25 : 5191\"\n",
      "[1] \"1 : 1552\"\n",
      "[1] \"19 : 10832\"\n",
      "[1] \"20 : 7571\"\n",
      "[1] \"29 : 704\"\n",
      "[1] \"18 : 2313\"\n",
      "[1] \"3 : 2234\"\n",
      "[1] \"30 : 3886\"\n",
      "[1] \"10 : 273\"\n",
      "[1] \"11 : 259\"\n",
      "[1] \"22 : 2768\"\n",
      "[1] \"6 : 1455\"\n",
      "[1] \"8 : 506\"\n",
      "[1] \"9 : 394\"\n",
      "[1] \"12 : 205\"\n",
      "[1] \"7 : 360\"\n",
      "[1] \"21 : 95\"\n",
      "[1] \"4 : 487\"\n",
      "[1] \"32 : 300\"\n",
      "[1] \"23 : 1545\"\n",
      "[1] \"31 : 209\"\n",
      "[1] \"24 : 4\"\n",
      "[1] \"26 : 5\"\n",
      "[1] \"5 : 26\"\n",
      "[1] \"14 : 8\"\n",
      "[1] \"15 : 3\"\n",
      "[1] \"13 : 42\"\n",
      "[1] \"16 : 9\"\n",
      "[1] \"33 : 1\"\n",
      "[1] \"27 : 2\"\n",
      "[1] \"17 : 1\"\n"
     ]
    }
   ],
   "source": [
    "copy_dev2 <- copy_dev\n",
    "copy_hold2 <- copy_hold\n",
    "\n",
    "# Смотрим частоту по уникальным значениям\n",
    "un_values <- unique(copy_dev2$tariff_id, incomparables = FALSE)\n",
    "for (x in un_values){\n",
    "  print(paste(x, ':', nrow(copy_dev2[copy_dev2$tariff_id == x, ])))\n",
    "}"
   ]
  },
  {
   "cell_type": "code",
   "execution_count": 45,
   "metadata": {},
   "outputs": [
    {
     "name": "stderr",
     "output_type": "stream",
     "text": [
      "Loading required package: MASS\n",
      "\n",
      "Attaching package: 'memisc'\n",
      "\n",
      "The following object is masked from 'package:foreach':\n",
      "\n",
      "    foreach\n",
      "\n",
      "The following objects are masked from 'package:stats':\n",
      "\n",
      "    contr.sum, contr.treatment, contrasts\n",
      "\n",
      "The following object is masked from 'package:base':\n",
      "\n",
      "    as.array\n",
      "\n"
     ]
    },
    {
     "data": {
      "image/png": "[encoded data removed]",
      "text/plain": [
       "plot without title"
      ]
     },
     "metadata": {},
     "output_type": "display_data"
    }
   ],
   "source": [
    "library(memisc)\n",
    "# Укрупняем по группам, чтобы уравновесить редкие категории\n",
    "copy_dev2$tariff_id <- recode(copy_dev2$tariff_id,\n",
    "                            \"2\" <- c(\"2\"),\n",
    "                            \"28\" <- c(\"28\"),\n",
    "                            \"19\" <- c(\"19\"),\n",
    "                            \"20\" <- c(\"20\"),\n",
    "                            \"25\" <- c(\"25\"),\n",
    "                            \"30_22\" <- c(\"30\", \"22\"),\n",
    "                            \"18_3_1\" <- c(\"18\", \"3\", \"1\"),\n",
    "                            otherwise=\"OTHER\")\n",
    "\n",
    "copy_hold2$tariff_id <- recode(copy_hold2$tariff_id,\n",
    "                            \"2\" <- c(\"2\"),\n",
    "                            \"28\" <- c(\"28\"),\n",
    "                            \"19\" <- c(\"19\"),\n",
    "                            \"20\" <- c(\"20\"),\n",
    "                            \"25\" <- c(\"25\"),\n",
    "                            \"30_22\" <- c(\"30\", \"22\"),\n",
    "                            \"18_3_1\" <- c(\"18\", \"3\", \"1\"),\n",
    "                            otherwise=\"OTHER\")\n",
    "copy_dev2$tariff_id <- as.factor(copy_dev2$tariff_id)\n",
    "copy_hold2$tariff_id <- as.factor(copy_hold2$tariff_id)\n",
    "detach(\"package:memisc\", unload=TRUE)\n",
    "\n",
    "library(randomForest)\n",
    "library(doParallel)\n",
    "CPUS=20; NTREE=800\n",
    "cl = makeCluster(CPUS)\n",
    "registerDoParallel(cl)\n",
    "\n",
    "set.seed(152)\n",
    "rf1 <- foreach(ntree=rep(NTREE/CPUS, CPUS), .combine=combine, .multicombine=TRUE, \n",
    "                   .packages='randomForest') %dopar% {\n",
    "  randomForest(open_account_flg~., data=copy_dev2, importance=FALSE, ntree=ntree, mtry=2, \n",
    "               classwt=c(0.60, 0.4))\n",
    "}\n",
    "stopCluster(cl)\n",
    "\n",
    "# Вычисление вероятностей классов\n",
    "prob <- predict(rf1, type=\"prob\")\n",
    "prob2 <- predict(rf1, copy_hold2, type=\"prob\")\n",
    "\n",
    "# Строим ROC-кривые.\n",
    "library(pROC)\n",
    "roc_dev<-plot(roc(copy_dev2$open_account_flg, prob[,2], ci=TRUE), percent=TRUE, \n",
    "              print.auc=TRUE, col=\"#1c61b6\")\n",
    "roc_hold<-plot(roc(copy_hold2$open_account_flg, prob2[,2], ci=TRUE), percent=TRUE, \n",
    "               print.auc=TRUE, col=\"#008600\", print.auc.y= .4, add=TRUE)\n",
    "\n",
    "# Создаем легенды к ROC-кривым.\n",
    "legend(\"bottomright\", legend=c(\"Обучающая выборка\", \"Контрольная выборка\"), \n",
    "       col=c(\"#1c61b6\", \"#008600\"), lwd=2)"
   ]
  },
  {
   "cell_type": "code",
   "execution_count": null,
   "metadata": {
    "collapsed": true
   },
   "outputs": [],
   "source": []
  }
 ],
 "metadata": {
  "kernelspec": {
   "display_name": "R",
   "language": "R",
   "name": "ir"
  },
  "language_info": {
   "codemirror_mode": "r",
   "file_extension": ".r",
   "mimetype": "text/x-r-source",
   "name": "R",
   "pygments_lexer": "r",
   "version": "3.4.3"
  }
 },
 "nbformat": 4,
 "nbformat_minor": 2
}
