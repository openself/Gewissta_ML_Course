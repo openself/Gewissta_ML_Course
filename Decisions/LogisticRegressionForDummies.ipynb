{
 "cells": [
  {
   "cell_type": "markdown",
   "metadata": {},
   "source": [
    "## Математический аппарат логистической регрессии"
   ]
  },
  {
   "cell_type": "markdown",
   "metadata": {},
   "source": [
    "<img src='../img/logreg1.png'>\n",
    "\n",
    "\n",
    "<img src='../img/logreg2.png'>\n"
   ]
  },
  {
   "cell_type": "markdown",
   "metadata": {},
   "source": [
    "## Загрузка и предобработка данных"
   ]
  },
  {
   "cell_type": "code",
   "execution_count": 1,
   "metadata": {
    "collapsed": true
   },
   "outputs": [],
   "source": [
    "# загружаем необходимые библиотеки\n",
    "import numpy as np\n",
    "import pandas as pd\n",
    "import matplotlib.pyplot as plt\n",
    "%matplotlib inline\n",
    "from IPython.display import display\n",
    "plt.rc('font', family='Verdana')"
   ]
  },
  {
   "cell_type": "code",
   "execution_count": 2,
   "metadata": {},
   "outputs": [
    {
     "data": {
      "text/html": [
       "<div>\n",
       "<style scoped>\n",
       "    .dataframe tbody tr th:only-of-type {\n",
       "        vertical-align: middle;\n",
       "    }\n",
       "\n",
       "    .dataframe tbody tr th {\n",
       "        vertical-align: top;\n",
       "    }\n",
       "\n",
       "    .dataframe thead th {\n",
       "        text-align: right;\n",
       "    }\n",
       "</style>\n",
       "<table border=\"1\" class=\"dataframe\">\n",
       "  <thead>\n",
       "    <tr style=\"text-align: right;\">\n",
       "      <th></th>\n",
       "      <th>age</th>\n",
       "      <th>employ</th>\n",
       "      <th>address</th>\n",
       "      <th>debtinc</th>\n",
       "      <th>creddebt</th>\n",
       "      <th>default</th>\n",
       "    </tr>\n",
       "  </thead>\n",
       "  <tbody>\n",
       "    <tr>\n",
       "      <th>0</th>\n",
       "      <td>28</td>\n",
       "      <td>7</td>\n",
       "      <td>2</td>\n",
       "      <td>17,7</td>\n",
       "      <td>2,990592</td>\n",
       "      <td>0</td>\n",
       "    </tr>\n",
       "    <tr>\n",
       "      <th>1</th>\n",
       "      <td>64</td>\n",
       "      <td>34</td>\n",
       "      <td>17</td>\n",
       "      <td>14,7</td>\n",
       "      <td>5,047392</td>\n",
       "      <td>0</td>\n",
       "    </tr>\n",
       "    <tr>\n",
       "      <th>2</th>\n",
       "      <td>40</td>\n",
       "      <td>20</td>\n",
       "      <td>12</td>\n",
       "      <td>4,8</td>\n",
       "      <td>1,042368</td>\n",
       "      <td>0</td>\n",
       "    </tr>\n",
       "    <tr>\n",
       "      <th>3</th>\n",
       "      <td>30</td>\n",
       "      <td>11</td>\n",
       "      <td>3</td>\n",
       "      <td>34,5</td>\n",
       "      <td>1,75122</td>\n",
       "      <td>0</td>\n",
       "    </tr>\n",
       "    <tr>\n",
       "      <th>4</th>\n",
       "      <td>25</td>\n",
       "      <td>2</td>\n",
       "      <td>2</td>\n",
       "      <td>22,4</td>\n",
       "      <td>0,75936</td>\n",
       "      <td>1</td>\n",
       "    </tr>\n",
       "  </tbody>\n",
       "</table>\n",
       "</div>"
      ],
      "text/plain": [
       "   age  employ  address debtinc  creddebt  default\n",
       "0   28       7        2    17,7  2,990592        0\n",
       "1   64      34       17    14,7  5,047392        0\n",
       "2   40      20       12     4,8  1,042368        0\n",
       "3   30      11        3    34,5   1,75122        0\n",
       "4   25       2        2    22,4   0,75936        1"
      ]
     },
     "execution_count": 2,
     "metadata": {},
     "output_type": "execute_result"
    }
   ],
   "source": [
    "# загружаем данные\n",
    "data = pd.read_csv(\"C:/Trees/Bankloan.csv\", encoding='cp1251', sep=';')\n",
    "data.head()"
   ]
  },
  {
   "cell_type": "code",
   "execution_count": 3,
   "metadata": {
    "collapsed": true
   },
   "outputs": [],
   "source": [
    "# заменяем запятые на точки и переводим в тип float\n",
    "for i in ['debtinc', 'creddebt']:\n",
    "    if i in data.columns:\n",
    "        data[i]=data[i].str.replace(',', '.').astype('float')"
   ]
  },
  {
   "cell_type": "code",
   "execution_count": 4,
   "metadata": {},
   "outputs": [
    {
     "data": {
      "text/html": [
       "<div>\n",
       "<style scoped>\n",
       "    .dataframe tbody tr th:only-of-type {\n",
       "        vertical-align: middle;\n",
       "    }\n",
       "\n",
       "    .dataframe tbody tr th {\n",
       "        vertical-align: top;\n",
       "    }\n",
       "\n",
       "    .dataframe thead th {\n",
       "        text-align: right;\n",
       "    }\n",
       "</style>\n",
       "<table border=\"1\" class=\"dataframe\">\n",
       "  <thead>\n",
       "    <tr style=\"text-align: right;\">\n",
       "      <th></th>\n",
       "      <th>age</th>\n",
       "      <th>employ</th>\n",
       "      <th>address</th>\n",
       "      <th>debtinc</th>\n",
       "      <th>creddebt</th>\n",
       "      <th>default</th>\n",
       "    </tr>\n",
       "  </thead>\n",
       "  <tbody>\n",
       "    <tr>\n",
       "      <th>0</th>\n",
       "      <td>28</td>\n",
       "      <td>7</td>\n",
       "      <td>2</td>\n",
       "      <td>17.7</td>\n",
       "      <td>2.990592</td>\n",
       "      <td>0</td>\n",
       "    </tr>\n",
       "    <tr>\n",
       "      <th>1</th>\n",
       "      <td>64</td>\n",
       "      <td>34</td>\n",
       "      <td>17</td>\n",
       "      <td>14.7</td>\n",
       "      <td>5.047392</td>\n",
       "      <td>0</td>\n",
       "    </tr>\n",
       "    <tr>\n",
       "      <th>2</th>\n",
       "      <td>40</td>\n",
       "      <td>20</td>\n",
       "      <td>12</td>\n",
       "      <td>4.8</td>\n",
       "      <td>1.042368</td>\n",
       "      <td>0</td>\n",
       "    </tr>\n",
       "    <tr>\n",
       "      <th>3</th>\n",
       "      <td>30</td>\n",
       "      <td>11</td>\n",
       "      <td>3</td>\n",
       "      <td>34.5</td>\n",
       "      <td>1.751220</td>\n",
       "      <td>0</td>\n",
       "    </tr>\n",
       "    <tr>\n",
       "      <th>4</th>\n",
       "      <td>25</td>\n",
       "      <td>2</td>\n",
       "      <td>2</td>\n",
       "      <td>22.4</td>\n",
       "      <td>0.759360</td>\n",
       "      <td>1</td>\n",
       "    </tr>\n",
       "  </tbody>\n",
       "</table>\n",
       "</div>"
      ],
      "text/plain": [
       "   age  employ  address  debtinc  creddebt  default\n",
       "0   28       7        2     17.7  2.990592        0\n",
       "1   64      34       17     14.7  5.047392        0\n",
       "2   40      20       12      4.8  1.042368        0\n",
       "3   30      11        3     34.5  1.751220        0\n",
       "4   25       2        2     22.4  0.759360        1"
      ]
     },
     "execution_count": 4,
     "metadata": {},
     "output_type": "execute_result"
    }
   ],
   "source": [
    "# выводим первые 5 наблюдений\n",
    "data.head()"
   ]
  },
  {
   "cell_type": "code",
   "execution_count": 5,
   "metadata": {
    "collapsed": true
   },
   "outputs": [],
   "source": [
    "# преобразовываем в тип object\n",
    "data['default']=data['default'].astype('object')"
   ]
  },
  {
   "cell_type": "code",
   "execution_count": 6,
   "metadata": {
    "scrolled": true
   },
   "outputs": [
    {
     "name": "stdout",
     "output_type": "stream",
     "text": [
      "<class 'pandas.core.frame.DataFrame'>\n",
      "RangeIndex: 1500 entries, 0 to 1499\n",
      "Data columns (total 6 columns):\n",
      "age         1500 non-null int64\n",
      "employ      1500 non-null int64\n",
      "address     1500 non-null int64\n",
      "debtinc     1500 non-null float64\n",
      "creddebt    1500 non-null float64\n",
      "default     1500 non-null object\n",
      "dtypes: float64(2), int64(3), object(1)\n",
      "memory usage: 70.4+ KB\n"
     ]
    }
   ],
   "source": [
    "# выводим информацию о переменных\n",
    "data.info()"
   ]
  },
  {
   "cell_type": "markdown",
   "metadata": {},
   "source": [
    "## Дамми-кодирование"
   ]
  },
  {
   "cell_type": "code",
   "execution_count": 7,
   "metadata": {
    "scrolled": true
   },
   "outputs": [
    {
     "name": "stdout",
     "output_type": "stream",
     "text": [
      "Исходные переменные:\n",
      " ['age', 'employ', 'address', 'debtinc', 'creddebt', 'default'] \n",
      "\n",
      "Переменные после get_dummies:\n",
      " ['age', 'employ', 'address', 'debtinc', 'creddebt', 'default_0', 'default_1']\n"
     ]
    }
   ],
   "source": [
    "# выполняем дамми-кодирование\n",
    "print(\"Исходные переменные:\\n\", list(data.columns), \"\\n\")\n",
    "data_dummies = pd.get_dummies(data)\n",
    "print(\"Переменные после get_dummies:\\n\", list(data_dummies.columns))"
   ]
  },
  {
   "cell_type": "markdown",
   "metadata": {},
   "source": [
    "## Создание обучающего и тестового массивов признаков и меток"
   ]
  },
  {
   "cell_type": "code",
   "execution_count": 8,
   "metadata": {
    "collapsed": true
   },
   "outputs": [],
   "source": [
    "# создаем массив меток и массив признаков\n",
    "y = data_dummies.loc[:, 'default_1']\n",
    "data_dummies.drop('default_0', axis=1, inplace=True)\n",
    "data_dummies.drop('default_1', axis=1, inplace=True)\n",
    "X = data_dummies.loc[:, 'age':'creddebt']"
   ]
  },
  {
   "cell_type": "code",
   "execution_count": 9,
   "metadata": {
    "collapsed": true
   },
   "outputs": [],
   "source": [
    "# создаем обучающий и тестовый массивы\n",
    "# признаков и меток\n",
    "from sklearn.model_selection import train_test_split\n",
    "X_train, X_test, y_train, y_test = train_test_split(X, y, test_size=0.3, random_state=42)"
   ]
  },
  {
   "cell_type": "markdown",
   "metadata": {},
   "source": [
    "## Стандартизация"
   ]
  },
  {
   "cell_type": "markdown",
   "metadata": {},
   "source": [
    "Важнейшей предпосылкой регрессионного анализа является единый масштаб измерения переменных. Давайте отмасштабируем переменные. Самое простое масштабирование подразумевает, что из каждого значения переменной мы вычтем среднее значение и полученный результат разделим на стандартное отклонение:\n",
    "\n",
    "$$\\frac{\\Large x_i - mean(x)}{\\Large stdev(x)}$$\n",
    " \n",
    "В итоге мы получаем распределение со средним 0 и стандартным отклонением 1. Именно это и делает класс `StandardScaler`. Сначала импортируем класс `StandardScaler`, который осуществляет предварительную обработку, а затем создаем его экземпляр."
   ]
  },
  {
   "cell_type": "code",
   "execution_count": 10,
   "metadata": {
    "collapsed": true
   },
   "outputs": [],
   "source": [
    "# импортируем класс StandardScaler\n",
    "from sklearn.preprocessing import StandardScaler\n",
    "# создаем экземпляр класса StandardScaler\n",
    "scaler = StandardScaler()"
   ]
  },
  {
   "cell_type": "markdown",
   "metadata": {},
   "source": [
    "Затем с помощью метода `fit` мы подгоняем `scaler` на обучающих данных. В отличие от обычных моделей машинного обучения, при вызове метода `fit` `scaler` работает с данными (`X_train`), а ответы (`y_train`) не используются."
   ]
  },
  {
   "cell_type": "code",
   "execution_count": 11,
   "metadata": {},
   "outputs": [
    {
     "data": {
      "text/plain": [
       "StandardScaler(copy=True, with_mean=True, with_std=True)"
      ]
     },
     "execution_count": 11,
     "metadata": {},
     "output_type": "execute_result"
    }
   ],
   "source": [
    "# подгоняем модель\n",
    "scaler.fit(X_train)"
   ]
  },
  {
   "cell_type": "markdown",
   "metadata": {},
   "source": [
    "Чтобы применить преобразование, которое мы только что подогнали, то есть фактически отмасштабировать (scale) обучающие и контрольные данные, мы воспользуемся методом `transform`. Метод `transform` используется в `scikit-learn`, когда модель возвращает новое представление данных. Обратите внимамние, мы всегда применяем одинаковое преобразование к обучающему и тестовому наборам. Это означает, что метод `transform` всегда вычитает среднее значение, вычисленное для обучающего набора, и делит на стандартное отклонение, вычисленное также для обучающего набора. Среднее значение и стандартное отклонение переменной для обучающего набора могут отличаться от среднего значения и стандартного отклонения переменной для тестового набора."
   ]
  },
  {
   "cell_type": "code",
   "execution_count": 12,
   "metadata": {
    "collapsed": true
   },
   "outputs": [],
   "source": [
    "# преобразовываем данные и по отмасштабированным данным\n",
    "# уже можно будет строить логистическую регрессию\n",
    "X_train_scaled = scaler.transform(X_train)\n",
    "X_test_scaled = scaler.transform(X_test)"
   ]
  },
  {
   "cell_type": "code",
   "execution_count": 13,
   "metadata": {},
   "outputs": [
    {
     "name": "stdout",
     "output_type": "stream",
     "text": [
      "Минимальное значение для каждого признака\n",
      "[-1.22953373 -0.78904361 -1.05315752 -1.48834012 -0.64472937]\n",
      "Максимальное значение для каждого признака\n",
      " [  3.3466552    6.36785134   4.53924518   4.60164867  11.2239057 ]\n"
     ]
    }
   ],
   "source": [
    "# давайте посмотрим минимальное и максимальное значения каждого \n",
    "# признака в отмасштабированных данных\n",
    "print(\"Минимальное значение для каждого признака\\n{}\".format(X_train_scaled.min(axis=0)))\n",
    "print(\"Максимальное значение для каждого признака\\n {}\".format(X_train_scaled.max(axis=0)))"
   ]
  },
  {
   "cell_type": "markdown",
   "metadata": {},
   "source": [
    "## Построение логистической регрессии"
   ]
  },
  {
   "cell_type": "code",
   "execution_count": 14,
   "metadata": {
    "scrolled": true
   },
   "outputs": [
    {
     "name": "stdout",
     "output_type": "stream",
     "text": [
      "AUC на обучающей выборке: 0.848\n",
      "AUC на контрольной выборке: 0.832\n"
     ]
    }
   ],
   "source": [
    "# импортируем функцию roc_auc_score\n",
    "from sklearn.metrics import roc_auc_score\n",
    "\n",
    "# импортируем класс LogisticRegression\n",
    "from sklearn.linear_model import LogisticRegression\n",
    "\n",
    "# строим модель логистической регрессии на данных,\n",
    "# отмасштабированных с помощью RobustScaler\n",
    "logreg = LogisticRegression().fit(X_train_scaled, y_train)\n",
    "print(\"AUC на обучающей выборке: {:.3f}\".\n",
    "      format(roc_auc_score(y_train, logreg.predict_proba(X_train_scaled)[:, 1])))\n",
    "print(\"AUC на контрольной выборке: {:.3f}\".\n",
    "      format(roc_auc_score(y_test, logreg.predict_proba(X_test_scaled)[:, 1])))"
   ]
  },
  {
   "cell_type": "markdown",
   "metadata": {},
   "source": [
    "## Вычисление бета-коэффициентов и экспоненциальных коэффициентов логистической регрессии"
   ]
  },
  {
   "cell_type": "code",
   "execution_count": 15,
   "metadata": {
    "scrolled": false
   },
   "outputs": [
    {
     "data": {
      "text/plain": [
       "array([[-0.43709748, -1.93336605,  0.01066257,  0.68409413,  1.46949422]])"
      ]
     },
     "execution_count": 15,
     "metadata": {},
     "output_type": "execute_result"
    }
   ],
   "source": [
    "# выводим бета-коэффициенты\n",
    "logreg.coef_"
   ]
  },
  {
   "cell_type": "code",
   "execution_count": 16,
   "metadata": {
    "collapsed": true
   },
   "outputs": [],
   "source": [
    "# запишем бета-коэффициенты и названия предикторов\n",
    "# в отдельные объекты\n",
    "coef=logreg.coef_\n",
    "feat_labels = X.columns"
   ]
  },
  {
   "cell_type": "code",
   "execution_count": 17,
   "metadata": {},
   "outputs": [
    {
     "data": {
      "text/plain": [
       "array([-1.04780638])"
      ]
     },
     "execution_count": 17,
     "metadata": {},
     "output_type": "execute_result"
    }
   ],
   "source": [
    "# вычислим свободный член (константу)\n",
    "intercept=logreg.intercept_\n",
    "intercept"
   ]
  },
  {
   "cell_type": "code",
   "execution_count": 18,
   "metadata": {
    "scrolled": true
   },
   "outputs": [
    {
     "name": "stdout",
     "output_type": "stream",
     "text": [
      "Бета-коэффициенты:\n",
      "age -0.44\n",
      "employ -1.93\n",
      "address 0.01\n",
      "debtinc 0.68\n",
      "creddebt 1.47\n"
     ]
    }
   ],
   "source": [
    "# печатаем название \"Бета-коэффициенты\"\n",
    "print(\"Бета-коэффициенты:\")\n",
    "# для удобства сопоставим каждому названию \n",
    "# предиктора соответствующий бета-коэффициент\n",
    "for c, feature in zip(coef[0], feat_labels):\n",
    "    print(feature, round(c, 2))"
   ]
  },
  {
   "cell_type": "code",
   "execution_count": 19,
   "metadata": {},
   "outputs": [
    {
     "data": {
      "text/plain": [
       "array([[ 0.64590847,  0.14466044,  1.01071961,  1.98197561,  4.34703593]])"
      ]
     },
     "execution_count": 19,
     "metadata": {},
     "output_type": "execute_result"
    }
   ],
   "source": [
    "# вычислим экспоненциальные коэффициенты\n",
    "# и запишем их в отдельный объект\n",
    "exp_coef=np.exp(coef)\n",
    "exp_coef"
   ]
  },
  {
   "cell_type": "code",
   "execution_count": 20,
   "metadata": {
    "scrolled": true
   },
   "outputs": [
    {
     "name": "stdout",
     "output_type": "stream",
     "text": [
      "Экспоненциальные коэффициенты:\n",
      "age 0.65\n",
      "employ 0.14\n",
      "address 1.01\n",
      "debtinc 1.98\n",
      "creddebt 4.35\n"
     ]
    }
   ],
   "source": [
    "# печатаем название \"Экспоненциальные коэффициенты\"\n",
    "print(\"Экспоненциальные коэффициенты:\")\n",
    "# для удобства сопоставим каждому названию \n",
    "# предиктора соответствующий \n",
    "# экспоненциальный коэффициент\n",
    "for c, feature in zip(exp_coef[0], feat_labels):\n",
    "    print(feature, round(c, 2))"
   ]
  },
  {
   "cell_type": "markdown",
   "metadata": {},
   "source": [
    "## Интерпретация коэффициентов логистической регрессии"
   ]
  },
  {
   "cell_type": "markdown",
   "metadata": {},
   "source": [
    "<img src='../img/logreg3.png'>\n",
    "\n",
    "<img src='../img/logreg4.png'>\n"
   ]
  },
  {
   "cell_type": "markdown",
   "metadata": {},
   "source": [
    "## Получение прогнозов"
   ]
  },
  {
   "cell_type": "code",
   "execution_count": 21,
   "metadata": {},
   "outputs": [
    {
     "data": {
      "text/plain": [
       "array([1, 0, 0, ..., 1, 0, 0], dtype=uint8)"
      ]
     },
     "execution_count": 21,
     "metadata": {},
     "output_type": "execute_result"
    }
   ],
   "source": [
    "# получаем спрогнозированные значения\n",
    "predvalue = logreg.predict(X_train_scaled)\n",
    "predvalue"
   ]
  },
  {
   "cell_type": "code",
   "execution_count": 22,
   "metadata": {},
   "outputs": [
    {
     "data": {
      "text/html": [
       "<div>\n",
       "<style scoped>\n",
       "    .dataframe tbody tr th:only-of-type {\n",
       "        vertical-align: middle;\n",
       "    }\n",
       "\n",
       "    .dataframe tbody tr th {\n",
       "        vertical-align: top;\n",
       "    }\n",
       "\n",
       "    .dataframe thead th {\n",
       "        text-align: right;\n",
       "    }\n",
       "</style>\n",
       "<table border=\"1\" class=\"dataframe\">\n",
       "  <thead>\n",
       "    <tr style=\"text-align: right;\">\n",
       "      <th></th>\n",
       "      <th>Predicted_class</th>\n",
       "    </tr>\n",
       "  </thead>\n",
       "  <tbody>\n",
       "    <tr>\n",
       "      <th>485</th>\n",
       "      <td>1</td>\n",
       "    </tr>\n",
       "    <tr>\n",
       "      <th>527</th>\n",
       "      <td>0</td>\n",
       "    </tr>\n",
       "    <tr>\n",
       "      <th>199</th>\n",
       "      <td>0</td>\n",
       "    </tr>\n",
       "    <tr>\n",
       "      <th>889</th>\n",
       "      <td>0</td>\n",
       "    </tr>\n",
       "    <tr>\n",
       "      <th>844</th>\n",
       "      <td>1</td>\n",
       "    </tr>\n",
       "  </tbody>\n",
       "</table>\n",
       "</div>"
      ],
      "text/plain": [
       "     Predicted_class\n",
       "485                1\n",
       "527                0\n",
       "199                0\n",
       "889                0\n",
       "844                1"
      ]
     },
     "execution_count": 22,
     "metadata": {},
     "output_type": "execute_result"
    }
   ],
   "source": [
    "# преобразуем массив NumPy со спрогнозированными\n",
    "# значениями в объект DataFrame\n",
    "predvalue=pd.DataFrame(predvalue, index=X_train.index, columns=['Predicted_class'])\n",
    "predvalue.head()"
   ]
  },
  {
   "cell_type": "code",
   "execution_count": 23,
   "metadata": {
    "scrolled": true
   },
   "outputs": [
    {
     "data": {
      "text/plain": [
       "array([[ 0.49572801,  0.50427199],\n",
       "       [ 0.7785396 ,  0.2214604 ],\n",
       "       [ 0.64167471,  0.35832529],\n",
       "       ..., \n",
       "       [ 0.23013997,  0.76986003],\n",
       "       [ 0.95370803,  0.04629197],\n",
       "       [ 0.97289379,  0.02710621]])"
      ]
     },
     "execution_count": 23,
     "metadata": {},
     "output_type": "execute_result"
    }
   ],
   "source": [
    "# получаем спрогнозированные вероятности\n",
    "prob = logreg.predict_proba(X_train_scaled)\n",
    "prob"
   ]
  },
  {
   "cell_type": "code",
   "execution_count": 24,
   "metadata": {
    "scrolled": true
   },
   "outputs": [
    {
     "data": {
      "text/html": [
       "<div>\n",
       "<style scoped>\n",
       "    .dataframe tbody tr th:only-of-type {\n",
       "        vertical-align: middle;\n",
       "    }\n",
       "\n",
       "    .dataframe tbody tr th {\n",
       "        vertical-align: top;\n",
       "    }\n",
       "\n",
       "    .dataframe thead th {\n",
       "        text-align: right;\n",
       "    }\n",
       "</style>\n",
       "<table border=\"1\" class=\"dataframe\">\n",
       "  <thead>\n",
       "    <tr style=\"text-align: right;\">\n",
       "      <th></th>\n",
       "      <th>Prob0</th>\n",
       "      <th>Prob1</th>\n",
       "    </tr>\n",
       "  </thead>\n",
       "  <tbody>\n",
       "    <tr>\n",
       "      <th>485</th>\n",
       "      <td>0.495728</td>\n",
       "      <td>0.504272</td>\n",
       "    </tr>\n",
       "    <tr>\n",
       "      <th>527</th>\n",
       "      <td>0.778540</td>\n",
       "      <td>0.221460</td>\n",
       "    </tr>\n",
       "    <tr>\n",
       "      <th>199</th>\n",
       "      <td>0.641675</td>\n",
       "      <td>0.358325</td>\n",
       "    </tr>\n",
       "    <tr>\n",
       "      <th>889</th>\n",
       "      <td>0.801448</td>\n",
       "      <td>0.198552</td>\n",
       "    </tr>\n",
       "    <tr>\n",
       "      <th>844</th>\n",
       "      <td>0.428586</td>\n",
       "      <td>0.571414</td>\n",
       "    </tr>\n",
       "  </tbody>\n",
       "</table>\n",
       "</div>"
      ],
      "text/plain": [
       "        Prob0     Prob1\n",
       "485  0.495728  0.504272\n",
       "527  0.778540  0.221460\n",
       "199  0.641675  0.358325\n",
       "889  0.801448  0.198552\n",
       "844  0.428586  0.571414"
      ]
     },
     "execution_count": 24,
     "metadata": {},
     "output_type": "execute_result"
    }
   ],
   "source": [
    "# преобразуем массив NumPy со спрогнозированными\n",
    "# вероятностями в объект DataFrame\n",
    "probabilities=pd.DataFrame(prob, index=X_train.index, columns=['Prob0', 'Prob1'])\n",
    "probabilities.head()"
   ]
  },
  {
   "cell_type": "code",
   "execution_count": 25,
   "metadata": {},
   "outputs": [
    {
     "data": {
      "text/html": [
       "<div>\n",
       "<style scoped>\n",
       "    .dataframe tbody tr th:only-of-type {\n",
       "        vertical-align: middle;\n",
       "    }\n",
       "\n",
       "    .dataframe tbody tr th {\n",
       "        vertical-align: top;\n",
       "    }\n",
       "\n",
       "    .dataframe thead th {\n",
       "        text-align: right;\n",
       "    }\n",
       "</style>\n",
       "<table border=\"1\" class=\"dataframe\">\n",
       "  <thead>\n",
       "    <tr style=\"text-align: right;\">\n",
       "      <th></th>\n",
       "      <th>age</th>\n",
       "      <th>employ</th>\n",
       "      <th>address</th>\n",
       "      <th>debtinc</th>\n",
       "      <th>creddebt</th>\n",
       "    </tr>\n",
       "  </thead>\n",
       "  <tbody>\n",
       "    <tr>\n",
       "      <th>485</th>\n",
       "      <td>-1.004475</td>\n",
       "      <td>-0.675442</td>\n",
       "      <td>-0.888675</td>\n",
       "      <td>-0.228342</td>\n",
       "      <td>-0.350020</td>\n",
       "    </tr>\n",
       "    <tr>\n",
       "      <th>527</th>\n",
       "      <td>-0.479339</td>\n",
       "      <td>-0.334638</td>\n",
       "      <td>-0.230745</td>\n",
       "      <td>-0.573342</td>\n",
       "      <td>-0.456745</td>\n",
       "    </tr>\n",
       "    <tr>\n",
       "      <th>199</th>\n",
       "      <td>-0.104241</td>\n",
       "      <td>-0.334638</td>\n",
       "      <td>-0.395228</td>\n",
       "      <td>-0.078343</td>\n",
       "      <td>-0.115391</td>\n",
       "    </tr>\n",
       "    <tr>\n",
       "      <th>889</th>\n",
       "      <td>2.746499</td>\n",
       "      <td>-0.561841</td>\n",
       "      <td>1.085114</td>\n",
       "      <td>0.011657</td>\n",
       "      <td>-0.172074</td>\n",
       "    </tr>\n",
       "    <tr>\n",
       "      <th>844</th>\n",
       "      <td>-1.079495</td>\n",
       "      <td>-0.789044</td>\n",
       "      <td>-0.888675</td>\n",
       "      <td>-0.033343</td>\n",
       "      <td>-0.428474</td>\n",
       "    </tr>\n",
       "  </tbody>\n",
       "</table>\n",
       "</div>"
      ],
      "text/plain": [
       "          age    employ   address   debtinc  creddebt\n",
       "485 -1.004475 -0.675442 -0.888675 -0.228342 -0.350020\n",
       "527 -0.479339 -0.334638 -0.230745 -0.573342 -0.456745\n",
       "199 -0.104241 -0.334638 -0.395228 -0.078343 -0.115391\n",
       "889  2.746499 -0.561841  1.085114  0.011657 -0.172074\n",
       "844 -1.079495 -0.789044 -0.888675 -0.033343 -0.428474"
      ]
     },
     "execution_count": 25,
     "metadata": {},
     "output_type": "execute_result"
    }
   ],
   "source": [
    "# преобразуем массив NumPy с отмасштабированными\n",
    "# данными в объект DataFrame\n",
    "X_tr=pd.DataFrame(X_train_scaled, index=X_train.index, columns=feat_labels)\n",
    "X_tr.head()"
   ]
  },
  {
   "cell_type": "code",
   "execution_count": 26,
   "metadata": {
    "scrolled": true
   },
   "outputs": [
    {
     "data": {
      "text/html": [
       "<div>\n",
       "<style scoped>\n",
       "    .dataframe tbody tr th:only-of-type {\n",
       "        vertical-align: middle;\n",
       "    }\n",
       "\n",
       "    .dataframe tbody tr th {\n",
       "        vertical-align: top;\n",
       "    }\n",
       "\n",
       "    .dataframe thead th {\n",
       "        text-align: right;\n",
       "    }\n",
       "</style>\n",
       "<table border=\"1\" class=\"dataframe\">\n",
       "  <thead>\n",
       "    <tr style=\"text-align: right;\">\n",
       "      <th></th>\n",
       "      <th>age</th>\n",
       "      <th>employ</th>\n",
       "      <th>address</th>\n",
       "      <th>debtinc</th>\n",
       "      <th>creddebt</th>\n",
       "      <th>default_1</th>\n",
       "      <th>Predicted_class</th>\n",
       "      <th>Prob0</th>\n",
       "      <th>Prob1</th>\n",
       "    </tr>\n",
       "  </thead>\n",
       "  <tbody>\n",
       "    <tr>\n",
       "      <th>485</th>\n",
       "      <td>-1.004475</td>\n",
       "      <td>-0.675442</td>\n",
       "      <td>-0.888675</td>\n",
       "      <td>-0.228342</td>\n",
       "      <td>-0.350020</td>\n",
       "      <td>0</td>\n",
       "      <td>1</td>\n",
       "      <td>0.495728</td>\n",
       "      <td>0.504272</td>\n",
       "    </tr>\n",
       "    <tr>\n",
       "      <th>527</th>\n",
       "      <td>-0.479339</td>\n",
       "      <td>-0.334638</td>\n",
       "      <td>-0.230745</td>\n",
       "      <td>-0.573342</td>\n",
       "      <td>-0.456745</td>\n",
       "      <td>0</td>\n",
       "      <td>0</td>\n",
       "      <td>0.778540</td>\n",
       "      <td>0.221460</td>\n",
       "    </tr>\n",
       "    <tr>\n",
       "      <th>199</th>\n",
       "      <td>-0.104241</td>\n",
       "      <td>-0.334638</td>\n",
       "      <td>-0.395228</td>\n",
       "      <td>-0.078343</td>\n",
       "      <td>-0.115391</td>\n",
       "      <td>0</td>\n",
       "      <td>0</td>\n",
       "      <td>0.641675</td>\n",
       "      <td>0.358325</td>\n",
       "    </tr>\n",
       "    <tr>\n",
       "      <th>889</th>\n",
       "      <td>2.746499</td>\n",
       "      <td>-0.561841</td>\n",
       "      <td>1.085114</td>\n",
       "      <td>0.011657</td>\n",
       "      <td>-0.172074</td>\n",
       "      <td>0</td>\n",
       "      <td>0</td>\n",
       "      <td>0.801448</td>\n",
       "      <td>0.198552</td>\n",
       "    </tr>\n",
       "    <tr>\n",
       "      <th>844</th>\n",
       "      <td>-1.079495</td>\n",
       "      <td>-0.789044</td>\n",
       "      <td>-0.888675</td>\n",
       "      <td>-0.033343</td>\n",
       "      <td>-0.428474</td>\n",
       "      <td>0</td>\n",
       "      <td>1</td>\n",
       "      <td>0.428586</td>\n",
       "      <td>0.571414</td>\n",
       "    </tr>\n",
       "  </tbody>\n",
       "</table>\n",
       "</div>"
      ],
      "text/plain": [
       "          age    employ   address   debtinc  creddebt  default_1  \\\n",
       "485 -1.004475 -0.675442 -0.888675 -0.228342 -0.350020          0   \n",
       "527 -0.479339 -0.334638 -0.230745 -0.573342 -0.456745          0   \n",
       "199 -0.104241 -0.334638 -0.395228 -0.078343 -0.115391          0   \n",
       "889  2.746499 -0.561841  1.085114  0.011657 -0.172074          0   \n",
       "844 -1.079495 -0.789044 -0.888675 -0.033343 -0.428474          0   \n",
       "\n",
       "     Predicted_class     Prob0     Prob1  \n",
       "485                1  0.495728  0.504272  \n",
       "527                0  0.778540  0.221460  \n",
       "199                0  0.641675  0.358325  \n",
       "889                0  0.801448  0.198552  \n",
       "844                1  0.428586  0.571414  "
      ]
     },
     "execution_count": 26,
     "metadata": {},
     "output_type": "execute_result"
    }
   ],
   "source": [
    "# конкатенируем датафреймы\n",
    "result=pd.concat([X_tr, y_train, predvalue, probabilities], axis=1)\n",
    "# выводим первые 5 наблюдений\n",
    "# итогового датафрейма\n",
    "result.head()"
   ]
  },
  {
   "cell_type": "markdown",
   "metadata": {},
   "source": [
    "## Вычисление вероятности положительного класса вручную"
   ]
  },
  {
   "cell_type": "markdown",
   "metadata": {},
   "source": [
    "Давайте вручную вычислим вероятность дефолта для наблюдения 485. \n",
    "\n",
    "Подставляем в формулу\n",
    "\n",
    "$$\\Large \\frac{1}{1+e^{-(b_0+b_1x_i^{(1)}+b_2x_i^{(2)}+...+b_kx_i^{(k)})}}$$ \n",
    "\n",
    "коэффициенты и значения предикторов для данного наблюдения."
   ]
  },
  {
   "cell_type": "markdown",
   "metadata": {},
   "source": [
    "<img src='../img/Prob_logreg.png'>\n",
    "\n",
    "\n",
    "Найденное значение практически совпадает со значением вероятности дефолта, вычисленным автоматически (0.504341). Небольшое различие обусловлено ошибкой округления."
   ]
  },
  {
   "cell_type": "markdown",
   "metadata": {},
   "source": [
    "## Вычисление значений решающей функции"
   ]
  },
  {
   "cell_type": "code",
   "execution_count": 27,
   "metadata": {},
   "outputs": [
    {
     "data": {
      "text/plain": [
       "array([ 0.01708838, -1.25717605, -0.5826403 , -1.39536818,  0.2876232 ])"
      ]
     },
     "execution_count": 27,
     "metadata": {},
     "output_type": "execute_result"
    }
   ],
   "source": [
    "# выводим значения решающей функции\n",
    "# для первых 5 наблюдений\n",
    "logreg.decision_function(X_train_scaled[:5])"
   ]
  },
  {
   "cell_type": "markdown",
   "metadata": {
    "collapsed": true
   },
   "source": [
    "Возвращаемое значение представляет собой число с плавающей точкой для каждого наблюдения.Значение показывает, насколько сильно модель уверена в том, что точка данных принадлежит положительному классу, в данном случае, классу 1. Положительное значение указывает на предпочтение в пользу позиционного класса, а отрицательное значение – на предпочтение в пользу отрицательного (другого) класса. Мы можем судить о прогнозах, лишь взглянув на знак решающей функции."
   ]
  },
  {
   "cell_type": "code",
   "execution_count": 28,
   "metadata": {
    "scrolled": false
   },
   "outputs": [
    {
     "name": "stdout",
     "output_type": "stream",
     "text": [
      "[ True False False False  True]\n",
      "[1 0 0 0 1]\n"
     ]
    }
   ],
   "source": [
    "# возвращаем логические значения в соответствии с условием\n",
    "# \"значение решающей функции выше 0\" и прогнозы, \n",
    "# они будут идентичны друг другу\n",
    "print(logreg.decision_function(X_train_scaled[:5]) > 0)\n",
    "print(logreg.predict(X_train_scaled[:5]))"
   ]
  },
  {
   "cell_type": "code",
   "execution_count": null,
   "metadata": {
    "collapsed": true
   },
   "outputs": [],
   "source": []
  }
 ],
 "metadata": {
  "kernelspec": {
   "display_name": "Python 3",
   "language": "python",
   "name": "python3"
  },
  "language_info": {
   "codemirror_mode": {
    "name": "ipython",
    "version": 3
   },
   "file_extension": ".py",
   "mimetype": "text/x-python",
   "name": "python",
   "nbconvert_exporter": "python",
   "pygments_lexer": "ipython3",
   "version": "3.6.1"
  }
 },
 "nbformat": 4,
 "nbformat_minor": 2
}
